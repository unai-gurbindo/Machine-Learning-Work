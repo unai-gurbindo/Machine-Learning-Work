{
 "cells": [
  {
   "cell_type": "code",
   "execution_count": 1,
   "id": "52e0ff4a",
   "metadata": {},
   "outputs": [],
   "source": [
    "import numpy as np\n",
    "import pandas as pd\n",
    "import matplotlib.pyplot as plt\n",
    "from matplotlib.colors import ListedColormap\n",
    "import matplotlib\n",
    "import seaborn as sns\n",
    "%matplotlib inline"
   ]
  },
  {
   "cell_type": "markdown",
   "id": "55ecaf60",
   "metadata": {},
   "source": [
    "<h1><u>Trabajo Aprendizaje Automático</u></h1>"
   ]
  },
  {
   "cell_type": "markdown",
   "id": "625942bd",
   "metadata": {},
   "source": [
    "## Índice"
   ]
  },
  {
   "cell_type": "markdown",
   "id": "164bc58f",
   "metadata": {},
   "source": [
    "- [Breve introducción al trabajo](#Breve-introducción-al-trabajo)\n",
    "- [Análisis descriptivo](#Análisis-descriptivo)\n",
    "- [Análisis de correlaciones](#Análisis-de-correlaciones)\n",
    "- [Generación de muestras](#Generación-de-muestras)\n",
    "- [Selección de variables](#Selección-de-variables)\n",
    "- [Modelos de clasificación](#Modelos-de-clasificación)\n",
    "- [Conclusiones](#Conclusiones)"
   ]
  },
  {
   "cell_type": "markdown",
   "id": "8b382a77",
   "metadata": {},
   "source": [
    "## Breve introducción al trabajo"
   ]
  },
  {
   "cell_type": "markdown",
   "id": "4f4dcec8",
   "metadata": {},
   "source": [
    "En este documento se tratará un conjunto de datos para resolver un problema de clasificación multiclase utilizando técnicas de aprendizaje automático. El objetivo del problema es tener la capacidad de determinar la localización de proteínas E.coli a través de ciertas características celulares. \n",
    "\n",
    "En este trabajo se manejan distintas técnicas de aprendizaje automático y se añadirán algunas técnicas de preparación de datos para lograr explotar los resultados."
   ]
  },
  {
   "cell_type": "markdown",
   "id": "801a2887",
   "metadata": {},
   "source": [
    "## Análisis descriptivo"
   ]
  },
  {
   "cell_type": "markdown",
   "id": "c0bfd0c8",
   "metadata": {},
   "source": [
    "Comienzo haciendo un análisis descriptivo del conjunto de datos propuesto. Para ello, se lleva a cabo un análisis de cada característica del conjunto y de la variable respuesta. \n",
    "\n",
    "Para realizar este análisis, se comienza cargando el conjunto de datos en la variable *data*. En esta sección para facilitar los análisis se hará uso del módulo *pandas*."
   ]
  },
  {
   "cell_type": "code",
   "execution_count": 2,
   "id": "aa88bf48",
   "metadata": {},
   "outputs": [],
   "source": [
    "data=pd.read_csv('Dataset.txt',sep=',',names = ['mcg','gch','lip','chg','aac','alm1','alm2','Clase'],header=None)"
   ]
  },
  {
   "cell_type": "markdown",
   "id": "229bd187",
   "metadata": {},
   "source": [
    "Empiezo mostrando el nombre y el significado de las 7 variables explicativas del dataset.\n",
    "\n",
    "-  mcg: método de McGeoch para el reconocimiento de secuencias de señales.\n",
    "-  gch: método de von Heijne para el reconocimiento de secuencias de señales.\n",
    "-  lip: puntuación de la secuencia de consenso de la Peptidasa II de la señal de von Heijne.\n",
    "-  chg: Presencia de carga en el extremo N de las lipoproteínas predichas.\n",
    "-  aac: puntuación del análisis discriminante del contenido de aminoácidos de la membrana externa y las proteínas periplásmicas.\n",
    "-  alm1: puntuación del programa de predicción de la región que atraviesa la membrana de ALOM.\n",
    "-  alm2: puntuación del programa ALOM después de excluir regiones señal escindibles putativas de la secuencia.\n",
    "\n",
    "Finalmente, cito las posibles clasificaciones que pueden tener nuestros datos:\n",
    "\n",
    "- Citoplasma (0)\n",
    "- Membrana interna sin secuencia de señal (1)\n",
    "- Periplasma (2)\n",
    "- Membrana interna – secuencia de señal no escindible (3)\n",
    "- Membrana externa (4)\n",
    "- Lipoproteína de membrana externa (5)\n",
    "- Lipoproteína de membrana interna (6)\n",
    "- Membrana interna – secuencia de señal escindible (7)\n",
    "\n",
    "Avanzando con el tema, muestro el encabezado de nuestro conjunto de datos ,el tipo de los datos que hay en el dataset y una breve descripción de estos."
   ]
  },
  {
   "cell_type": "code",
   "execution_count": 3,
   "id": "99bd2f07",
   "metadata": {},
   "outputs": [
    {
     "data": {
      "text/html": [
       "<div>\n",
       "<style scoped>\n",
       "    .dataframe tbody tr th:only-of-type {\n",
       "        vertical-align: middle;\n",
       "    }\n",
       "\n",
       "    .dataframe tbody tr th {\n",
       "        vertical-align: top;\n",
       "    }\n",
       "\n",
       "    .dataframe thead th {\n",
       "        text-align: right;\n",
       "    }\n",
       "</style>\n",
       "<table border=\"1\" class=\"dataframe\">\n",
       "  <thead>\n",
       "    <tr style=\"text-align: right;\">\n",
       "      <th></th>\n",
       "      <th>mcg</th>\n",
       "      <th>gch</th>\n",
       "      <th>lip</th>\n",
       "      <th>chg</th>\n",
       "      <th>aac</th>\n",
       "      <th>alm1</th>\n",
       "      <th>alm2</th>\n",
       "      <th>Clase</th>\n",
       "    </tr>\n",
       "  </thead>\n",
       "  <tbody>\n",
       "    <tr>\n",
       "      <th>0</th>\n",
       "      <td>0.34</td>\n",
       "      <td>0.51</td>\n",
       "      <td>0.48</td>\n",
       "      <td>0.5</td>\n",
       "      <td>0.67</td>\n",
       "      <td>0.90</td>\n",
       "      <td>0.90</td>\n",
       "      <td>1.0</td>\n",
       "    </tr>\n",
       "    <tr>\n",
       "      <th>1</th>\n",
       "      <td>0.39</td>\n",
       "      <td>0.31</td>\n",
       "      <td>0.48</td>\n",
       "      <td>0.5</td>\n",
       "      <td>0.38</td>\n",
       "      <td>0.34</td>\n",
       "      <td>0.43</td>\n",
       "      <td>0.0</td>\n",
       "    </tr>\n",
       "    <tr>\n",
       "      <th>2</th>\n",
       "      <td>0.44</td>\n",
       "      <td>0.56</td>\n",
       "      <td>0.48</td>\n",
       "      <td>0.5</td>\n",
       "      <td>0.50</td>\n",
       "      <td>0.46</td>\n",
       "      <td>0.54</td>\n",
       "      <td>0.0</td>\n",
       "    </tr>\n",
       "    <tr>\n",
       "      <th>3</th>\n",
       "      <td>0.71</td>\n",
       "      <td>0.57</td>\n",
       "      <td>0.48</td>\n",
       "      <td>0.5</td>\n",
       "      <td>0.48</td>\n",
       "      <td>0.35</td>\n",
       "      <td>0.32</td>\n",
       "      <td>7.0</td>\n",
       "    </tr>\n",
       "    <tr>\n",
       "      <th>4</th>\n",
       "      <td>0.41</td>\n",
       "      <td>0.48</td>\n",
       "      <td>0.48</td>\n",
       "      <td>0.5</td>\n",
       "      <td>0.51</td>\n",
       "      <td>0.44</td>\n",
       "      <td>0.51</td>\n",
       "      <td>0.0</td>\n",
       "    </tr>\n",
       "  </tbody>\n",
       "</table>\n",
       "</div>"
      ],
      "text/plain": [
       "    mcg   gch   lip  chg   aac  alm1  alm2  Clase\n",
       "0  0.34  0.51  0.48  0.5  0.67  0.90  0.90    1.0\n",
       "1  0.39  0.31  0.48  0.5  0.38  0.34  0.43    0.0\n",
       "2  0.44  0.56  0.48  0.5  0.50  0.46  0.54    0.0\n",
       "3  0.71  0.57  0.48  0.5  0.48  0.35  0.32    7.0\n",
       "4  0.41  0.48  0.48  0.5  0.51  0.44  0.51    0.0"
      ]
     },
     "execution_count": 3,
     "metadata": {},
     "output_type": "execute_result"
    }
   ],
   "source": [
    "data.head()"
   ]
  },
  {
   "cell_type": "code",
   "execution_count": 4,
   "id": "6ee9346c",
   "metadata": {},
   "outputs": [
    {
     "data": {
      "text/plain": [
       "mcg      float64\n",
       "gch      float64\n",
       "lip      float64\n",
       "chg      float64\n",
       "aac      float64\n",
       "alm1     float64\n",
       "alm2     float64\n",
       "Clase    float64\n",
       "dtype: object"
      ]
     },
     "execution_count": 4,
     "metadata": {},
     "output_type": "execute_result"
    }
   ],
   "source": [
    "data.dtypes"
   ]
  },
  {
   "cell_type": "code",
   "execution_count": 5,
   "id": "652aef51",
   "metadata": {
    "scrolled": false
   },
   "outputs": [
    {
     "data": {
      "text/html": [
       "<div>\n",
       "<style scoped>\n",
       "    .dataframe tbody tr th:only-of-type {\n",
       "        vertical-align: middle;\n",
       "    }\n",
       "\n",
       "    .dataframe tbody tr th {\n",
       "        vertical-align: top;\n",
       "    }\n",
       "\n",
       "    .dataframe thead th {\n",
       "        text-align: right;\n",
       "    }\n",
       "</style>\n",
       "<table border=\"1\" class=\"dataframe\">\n",
       "  <thead>\n",
       "    <tr style=\"text-align: right;\">\n",
       "      <th></th>\n",
       "      <th>mcg</th>\n",
       "      <th>gch</th>\n",
       "      <th>lip</th>\n",
       "      <th>chg</th>\n",
       "      <th>aac</th>\n",
       "      <th>alm1</th>\n",
       "      <th>alm2</th>\n",
       "    </tr>\n",
       "  </thead>\n",
       "  <tbody>\n",
       "    <tr>\n",
       "      <th>count</th>\n",
       "      <td>235.000000</td>\n",
       "      <td>235.000000</td>\n",
       "      <td>235.000000</td>\n",
       "      <td>235.000000</td>\n",
       "      <td>235.000000</td>\n",
       "      <td>235.000000</td>\n",
       "      <td>235.000000</td>\n",
       "    </tr>\n",
       "    <tr>\n",
       "      <th>mean</th>\n",
       "      <td>0.500681</td>\n",
       "      <td>0.507702</td>\n",
       "      <td>0.497702</td>\n",
       "      <td>0.502128</td>\n",
       "      <td>0.497106</td>\n",
       "      <td>0.505447</td>\n",
       "      <td>0.501872</td>\n",
       "    </tr>\n",
       "    <tr>\n",
       "      <th>std</th>\n",
       "      <td>0.193904</td>\n",
       "      <td>0.146310</td>\n",
       "      <td>0.094497</td>\n",
       "      <td>0.032616</td>\n",
       "      <td>0.123866</td>\n",
       "      <td>0.211646</td>\n",
       "      <td>0.210358</td>\n",
       "    </tr>\n",
       "    <tr>\n",
       "      <th>min</th>\n",
       "      <td>0.000000</td>\n",
       "      <td>0.160000</td>\n",
       "      <td>0.480000</td>\n",
       "      <td>0.500000</td>\n",
       "      <td>0.000000</td>\n",
       "      <td>0.110000</td>\n",
       "      <td>0.000000</td>\n",
       "    </tr>\n",
       "    <tr>\n",
       "      <th>25%</th>\n",
       "      <td>0.340000</td>\n",
       "      <td>0.410000</td>\n",
       "      <td>0.480000</td>\n",
       "      <td>0.500000</td>\n",
       "      <td>0.420000</td>\n",
       "      <td>0.330000</td>\n",
       "      <td>0.345000</td>\n",
       "    </tr>\n",
       "    <tr>\n",
       "      <th>50%</th>\n",
       "      <td>0.500000</td>\n",
       "      <td>0.480000</td>\n",
       "      <td>0.480000</td>\n",
       "      <td>0.500000</td>\n",
       "      <td>0.490000</td>\n",
       "      <td>0.470000</td>\n",
       "      <td>0.430000</td>\n",
       "    </tr>\n",
       "    <tr>\n",
       "      <th>75%</th>\n",
       "      <td>0.670000</td>\n",
       "      <td>0.570000</td>\n",
       "      <td>0.480000</td>\n",
       "      <td>0.500000</td>\n",
       "      <td>0.570000</td>\n",
       "      <td>0.710000</td>\n",
       "      <td>0.695000</td>\n",
       "    </tr>\n",
       "    <tr>\n",
       "      <th>max</th>\n",
       "      <td>0.890000</td>\n",
       "      <td>1.000000</td>\n",
       "      <td>1.000000</td>\n",
       "      <td>1.000000</td>\n",
       "      <td>0.880000</td>\n",
       "      <td>1.000000</td>\n",
       "      <td>0.990000</td>\n",
       "    </tr>\n",
       "  </tbody>\n",
       "</table>\n",
       "</div>"
      ],
      "text/plain": [
       "              mcg         gch         lip         chg         aac        alm1  \\\n",
       "count  235.000000  235.000000  235.000000  235.000000  235.000000  235.000000   \n",
       "mean     0.500681    0.507702    0.497702    0.502128    0.497106    0.505447   \n",
       "std      0.193904    0.146310    0.094497    0.032616    0.123866    0.211646   \n",
       "min      0.000000    0.160000    0.480000    0.500000    0.000000    0.110000   \n",
       "25%      0.340000    0.410000    0.480000    0.500000    0.420000    0.330000   \n",
       "50%      0.500000    0.480000    0.480000    0.500000    0.490000    0.470000   \n",
       "75%      0.670000    0.570000    0.480000    0.500000    0.570000    0.710000   \n",
       "max      0.890000    1.000000    1.000000    1.000000    0.880000    1.000000   \n",
       "\n",
       "             alm2  \n",
       "count  235.000000  \n",
       "mean     0.501872  \n",
       "std      0.210358  \n",
       "min      0.000000  \n",
       "25%      0.345000  \n",
       "50%      0.430000  \n",
       "75%      0.695000  \n",
       "max      0.990000  "
      ]
     },
     "execution_count": 5,
     "metadata": {},
     "output_type": "execute_result"
    }
   ],
   "source": [
    "data.iloc[:,:-1].describe()"
   ]
  },
  {
   "cell_type": "markdown",
   "id": "004a0320",
   "metadata": {},
   "source": [
    "Por un lado, se observa que se han cargado correctamente los datos y que todas las variables son de tipo numérico (*float*), algo a tener en cuenta a la hora de generar los modelos (debido a que si hubiese variables cualitativas habría que transformarlas).\n",
    "\n",
    "Por otro lado, se visualiza que todas las variables se mueven en un rango similar (entre 0 y 1 en general), por lo que considero que no será necesaria una estandarización de las variables.\n",
    "\n",
    "A continuación, se analiza cada variable individualmente y con el objetivo de que el algoritmo aprenda correctamente, se examinará la existencia de *outliers* dentro de estas variables. Ya se sabe que este tipo de datos con características considerablemente diferentes pueden llegar a alterar el proceso de aprendizaje del modelo, perjudicando así la calidad de este. "
   ]
  },
  {
   "cell_type": "markdown",
   "id": "cf6ea67c",
   "metadata": {},
   "source": [
    "### Variables explicativas"
   ]
  },
  {
   "cell_type": "markdown",
   "id": "5c065a1b",
   "metadata": {},
   "source": [
    "**MCG**"
   ]
  },
  {
   "cell_type": "markdown",
   "id": "4c730f6b",
   "metadata": {},
   "source": [
    "Comienzo tratando las variables explicativas del dataset y empiezo por la característica **mcg**. Primero de todo mostraré una breve descripción de esta variable y luego, pasaré a analizar su distribución."
   ]
  },
  {
   "cell_type": "code",
   "execution_count": 6,
   "id": "b3e76141",
   "metadata": {},
   "outputs": [
    {
     "data": {
      "text/plain": [
       "count    235.000000\n",
       "mean       0.500681\n",
       "std        0.193904\n",
       "min        0.000000\n",
       "25%        0.340000\n",
       "50%        0.500000\n",
       "75%        0.670000\n",
       "max        0.890000\n",
       "Name: mcg, dtype: float64"
      ]
     },
     "execution_count": 6,
     "metadata": {},
     "output_type": "execute_result"
    }
   ],
   "source": [
    "data['mcg'].describe()"
   ]
  },
  {
   "cell_type": "code",
   "execution_count": 7,
   "id": "94f48b3d",
   "metadata": {},
   "outputs": [
    {
     "data": {
      "text/plain": [
       "<AxesSubplot:xlabel='mcg', ylabel='Count'>"
      ]
     },
     "execution_count": 7,
     "metadata": {},
     "output_type": "execute_result"
    },
    {
     "data": {
      "image/png": "[encoded data removed]",
      "text/plain": [
       "<Figure size 1656x648 with 2 Axes>"
      ]
     },
     "metadata": {
      "needs_background": "light"
     },
     "output_type": "display_data"
    }
   ],
   "source": [
    "fig, axs = plt.subplots(ncols=2,figsize=(23,9))\n",
    "\n",
    "sns.boxplot(data=data['mcg'],ax=axs[0],palette='Set2')\n",
    "\n",
    "sns.histplot(data=data['mcg'], bins=50,ax=axs[1])"
   ]
  },
  {
   "cell_type": "markdown",
   "id": "f5d6efa3",
   "metadata": {},
   "source": [
    "Se puede observar que la variable **mcg** se mueve en un intervalo de 0 y 0.9 aproximadamente. Tal y como he dicho, el rango de valores que toman todas las características es similar al intervalo (0,1)."
   ]
  },
  {
   "cell_type": "markdown",
   "id": "8bfdb1f3",
   "metadata": {},
   "source": [
    "Luego, se contempla que hay una distribución general muy compacta donde no se observa ningún dato con cualidades de *outlier*. Sin embargo, esta gráfica no es del todo correcta, ya que se debe observar también la distribución de esta variable según a la clase a la que pertenece cada dato. Se debe analizar de esta manera ya que puede llegar a haber algunos *outliers* dentro de estos subconjuntos, debido a que, cada clase tomará unos rangos de valores diferentes en cada característica y habrá instancias que pertenecen a una clase pero que toman un valor muy diferente a la distribución de su clase a pesar de estar dentro de la distribución general."
   ]
  },
  {
   "cell_type": "code",
   "execution_count": 8,
   "id": "43772a9a",
   "metadata": {},
   "outputs": [
    {
     "data": {
      "text/plain": [
       "<AxesSubplot:xlabel='Clase', ylabel='mcg'>"
      ]
     },
     "execution_count": 8,
     "metadata": {},
     "output_type": "execute_result"
    },
    {
     "data": {
      "image/png": "[encoded data removed]",
      "text/plain": [
       "<Figure size 864x360 with 1 Axes>"
      ]
     },
     "metadata": {
      "needs_background": "light"
     },
     "output_type": "display_data"
    }
   ],
   "source": [
    "plt.figure(figsize=(12,5))\n",
    "sns.boxplot(y='mcg', x='Clase' ,data=data,palette='Set3')"
   ]
  },
  {
   "cell_type": "markdown",
   "id": "7ae068bf",
   "metadata": {},
   "source": [
    "Se observa que en la distribución correspondiente a la clase 7, se encuentran algunos valores que pueden ser candidatos a *outliers*. Para ello, hago uso del criterio del rango intercuartílico y analizo esos datos. \n",
    "\n",
    "Durante el proceso de detección de *outliers*, voy a proceder a utilizar un punto de corte con valor 3 generalmente; es decir, sólo se detectarán los *outliers extremos* (a excepción de las clases mayoritarias donde analizaré la posibilidad de reducir esta restricción)."
   ]
  },
  {
   "cell_type": "code",
   "execution_count": 9,
   "id": "0a915622",
   "metadata": {},
   "outputs": [],
   "source": [
    "def deteccionOutilers_IQR(data, k=1.5):\n",
    "    resumen=data.describe()\n",
    "    IQR=resumen.loc['75%']-resumen.loc['25%']\n",
    "    l1=data>(k*IQR+resumen.loc['75%'])\n",
    "    l2=data<(-k*IQR+resumen.loc['25%'])\n",
    "    return np.logical_or(l1,l2)"
   ]
  },
  {
   "cell_type": "code",
   "execution_count": 10,
   "id": "90c76a1a",
   "metadata": {},
   "outputs": [],
   "source": [
    "k=3"
   ]
  },
  {
   "cell_type": "code",
   "execution_count": 11,
   "id": "29cf3011",
   "metadata": {},
   "outputs": [
    {
     "name": "stdout",
     "output_type": "stream",
     "text": [
      "Número de datos de la clase 7: 36\n",
      "Numero de outliers detectados con la tecnica de IQR:  2\n",
      "Visualizamos caules son los outliers\n",
      "13     0.32\n",
      "109    0.29\n",
      "Name: mcg, dtype: float64\n"
     ]
    }
   ],
   "source": [
    "print('Número de datos de la clase 7: {}'.format((data['Clase']==7).sum()))\n",
    "outliersMGC=deteccionOutilers_IQR(data['mcg'][data['Clase']==7],k)\n",
    "print('Numero de outliers detectados con la tecnica de IQR: ',outliersMGC.sum())\n",
    "print('Visualizamos caules son los outliers\\n{}'.format(data['mcg'][data['Clase']==7][outliersMGC]))"
   ]
  },
  {
   "cell_type": "markdown",
   "id": "72ee2fdb",
   "metadata": {},
   "source": [
    "Gracias al código anterior expongo que de los 36 datos correspondientes a la clase 7, 2 son detectados como *outliers extremos*. En otros casos estos datos serían eliminados de la base de datos ya que pueden llegar a ser perjudiciales para el entrenamiento y pueden proporcionar malos resultados; sin embargo, en este caso no hay un gran dataset, por lo que no eliminaré estos datos pero tampoco los usaré para validar ni entrenar el clasificador, solo haré uso de ellos para ver si el modelo final es capaz de generalizar datos que incluso tienen rasgos fuera de lo común a los de su clase. He de decir, que los resultados que se obtendrán con estos datos realmente no serán relevantes y una mala salida no debe ser preocupante ya que se tratan de *outliers extremos*.\n",
    "\n",
    "También, he de comentar que si se disminuye el valor del punto de corte de la estrategia, aparece otro dato candidato a *outlier* (el dato 160) pero la cantidad de datos de esta clase no es muy amplia por lo que no lo considero como *outlier*."
   ]
  },
  {
   "cell_type": "markdown",
   "id": "9b73b61b",
   "metadata": {},
   "source": [
    "**GCH**"
   ]
  },
  {
   "cell_type": "markdown",
   "id": "56eb1192",
   "metadata": {},
   "source": [
    "Continúo con la variable correspondiente a los valores tomados con el método von Heijne y repito el procedimiento anterior."
   ]
  },
  {
   "cell_type": "code",
   "execution_count": 12,
   "id": "9f03526e",
   "metadata": {},
   "outputs": [
    {
     "data": {
      "text/plain": [
       "count    235.000000\n",
       "mean       0.507702\n",
       "std        0.146310\n",
       "min        0.160000\n",
       "25%        0.410000\n",
       "50%        0.480000\n",
       "75%        0.570000\n",
       "max        1.000000\n",
       "Name: gch, dtype: float64"
      ]
     },
     "execution_count": 12,
     "metadata": {},
     "output_type": "execute_result"
    }
   ],
   "source": [
    "data['gch'].describe()"
   ]
  },
  {
   "cell_type": "code",
   "execution_count": 13,
   "id": "e75fbf1d",
   "metadata": {},
   "outputs": [
    {
     "data": {
      "text/plain": [
       "<AxesSubplot:xlabel='gch', ylabel='Count'>"
      ]
     },
     "execution_count": 13,
     "metadata": {},
     "output_type": "execute_result"
    },
    {
     "data": {
      "image/png": "[encoded data removed]",
      "text/plain": [
       "<Figure size 1656x648 with 2 Axes>"
      ]
     },
     "metadata": {
      "needs_background": "light"
     },
     "output_type": "display_data"
    }
   ],
   "source": [
    "fig, axs = plt.subplots(ncols=2,figsize=(23,9))\n",
    "\n",
    "sns.boxplot(data=data['gch'],ax=axs[0],palette='Set2')\n",
    "\n",
    "sns.histplot(data=data['gch'], bins=50,ax=axs[1])"
   ]
  },
  {
   "cell_type": "markdown",
   "id": "ac3a2eac",
   "metadata": {},
   "source": [
    "Con el rango de valores que toma la variable, vuelvo a verificar lo dicho, los valores de las variables oscilan en el intervalo (0,1).\n",
    "\n",
    "En este caso también hay una distribución general compacta; sin embargo, se visualizan algunos datos que se pueden llegar a apreciar como *outliers*.  No obstante no podemos llegar a esta conclusión, dado que hay que analizar la distribución de esta característica por cada clase como ya he tratado en el caso anterior, ya que unos datos pueden tener unos valores muy alejados a la distribución general del conjunto pero no a la distribución de la clase a la que pertenece."
   ]
  },
  {
   "cell_type": "code",
   "execution_count": 14,
   "id": "e42f49f0",
   "metadata": {},
   "outputs": [
    {
     "data": {
      "text/plain": [
       "<AxesSubplot:xlabel='Clase', ylabel='gch'>"
      ]
     },
     "execution_count": 14,
     "metadata": {},
     "output_type": "execute_result"
    },
    {
     "data": {
      "image/png": "[encoded data removed]",
      "text/plain": [
       "<Figure size 864x360 with 1 Axes>"
      ]
     },
     "metadata": {
      "needs_background": "light"
     },
     "output_type": "display_data"
    }
   ],
   "source": [
    "plt.figure(figsize=(12,5))\n",
    "sns.boxplot(y='gch', x='Clase' ,data=data,palette='Set3')"
   ]
  },
  {
   "cell_type": "markdown",
   "id": "292f72d7",
   "metadata": {},
   "source": [
    "Se observa que en las distribuciones correspondientes a las clase 0, 1 y 4, hay datos candidatos a ser *outliers*. Sin embargo, cabe mencionar que no se observan tantos valores anómalos como en la distribución general; por ello, se refuerza la idea de analizar por cada clase, si no se podrían estar eliminando datos de gran interés para el aprendizaje. Ahora realizo un análisis individual de cada clase para la detección de los *outliers*."
   ]
  },
  {
   "cell_type": "code",
   "execution_count": 15,
   "id": "f00197a5",
   "metadata": {},
   "outputs": [],
   "source": [
    "k=3"
   ]
  },
  {
   "cell_type": "code",
   "execution_count": 16,
   "id": "fc21a1bf",
   "metadata": {},
   "outputs": [
    {
     "name": "stdout",
     "output_type": "stream",
     "text": [
      "Número de datos de la clase 0: 100\n",
      "Numero de outliers detectados con la tecnica de IQR:  0\n",
      "Visualizamos caules son los outliers\n",
      "Series([], Name: gch, dtype: float64)\n"
     ]
    }
   ],
   "source": [
    "print('Número de datos de la clase 0: {}'.format((data['Clase']==0).sum()))\n",
    "outliersGCH0=deteccionOutilers_IQR(data['gch'][data['Clase']==0],k)\n",
    "print('Numero de outliers detectados con la tecnica de IQR: ',outliersGCH0.sum())\n",
    "print('Visualizamos caules son los outliers\\n{}'.format(data['gch'][data['Clase']==0][outliersGCH0]))"
   ]
  },
  {
   "cell_type": "code",
   "execution_count": 17,
   "id": "f9bdcc38",
   "metadata": {},
   "outputs": [
    {
     "name": "stdout",
     "output_type": "stream",
     "text": [
      "Número de datos de la clase 1: 54\n",
      "Numero de outliers detectados con la tecnica de IQR:  0\n",
      "Visualizamos caules son los outliers\n",
      "Series([], Name: gch, dtype: float64)\n"
     ]
    }
   ],
   "source": [
    "print('Número de datos de la clase 1: {}'.format((data['Clase']==1).sum()))\n",
    "outliersGCH1=deteccionOutilers_IQR(data['gch'][data['Clase']==1],k)\n",
    "print('Numero de outliers detectados con la tecnica de IQR: ',outliersGCH1.sum())\n",
    "print('Visualizamos caules son los outliers\\n{}'.format(data['gch'][data['Clase']==1][outliersGCH1]))"
   ]
  },
  {
   "cell_type": "code",
   "execution_count": 18,
   "id": "75e0fbdc",
   "metadata": {},
   "outputs": [
    {
     "name": "stdout",
     "output_type": "stream",
     "text": [
      "Número de datos de la clase 4: 25\n",
      "Numero de outliers detectados con la tecnica de IQR:  0\n",
      "Visualizamos caules son los outliers\n",
      "Series([], Name: gch, dtype: float64)\n"
     ]
    }
   ],
   "source": [
    "print('Número de datos de la clase 4: {}'.format((data['Clase']==4).sum()))\n",
    "outliersGCH4=deteccionOutilers_IQR(data['gch'][data['Clase']==4],k)\n",
    "print('Numero de outliers detectados con la tecnica de IQR: ',outliersGCH4.sum())\n",
    "print('Visualizamos caules son los outliers\\n{}'.format(data['gch'][data['Clase']==4][outliersGCH4]))"
   ]
  },
  {
   "cell_type": "markdown",
   "id": "5160f4b6",
   "metadata": {},
   "source": [
    "Se observa que los datos analizados no se consideran *outliers extremos*, estableciendo el punto de corte (k) igual a 3. En cambio, si establezco el punto de corte para detectar *outliers* normales; es decir, *k=1.5* se obtiene que por cada clase hay un dato que se considera anómalo. Sin embargo, dada la escasez de datos, incremento el punto de corte a 2 para observar si los datos analizados se desvían lo suficiente como para no tenerlos en cuenta en el proceso de aprendizaje, ya que me interesa tener la mayor cantidad de datos posibles para entrenar y validar nuestro modelo."
   ]
  },
  {
   "cell_type": "code",
   "execution_count": 19,
   "id": "c3db6546",
   "metadata": {},
   "outputs": [],
   "source": [
    "k=2"
   ]
  },
  {
   "cell_type": "code",
   "execution_count": 20,
   "id": "27c99f13",
   "metadata": {},
   "outputs": [
    {
     "name": "stdout",
     "output_type": "stream",
     "text": [
      "Número de datos de la clase 0: 100\n",
      "Numero de outliers detectados con la tecnica de IQR:  1\n",
      "Visualizamos caules son los outliers\n",
      "30    0.16\n",
      "Name: gch, dtype: float64\n"
     ]
    }
   ],
   "source": [
    "print('Número de datos de la clase 0: {}'.format((data['Clase']==0).sum()))\n",
    "outliersGCH0=deteccionOutilers_IQR(data['gch'][data['Clase']==0],k)\n",
    "print('Numero de outliers detectados con la tecnica de IQR: ',outliersGCH0.sum())\n",
    "print('Visualizamos caules son los outliers\\n{}'.format(data['gch'][data['Clase']==0][outliersGCH0]))"
   ]
  },
  {
   "cell_type": "code",
   "execution_count": 21,
   "id": "29120242",
   "metadata": {},
   "outputs": [
    {
     "name": "stdout",
     "output_type": "stream",
     "text": [
      "Número de datos de la clase 1: 54\n",
      "Numero de outliers detectados con la tecnica de IQR:  0\n",
      "Visualizamos caules son los outliers\n",
      "Series([], Name: gch, dtype: float64)\n"
     ]
    }
   ],
   "source": [
    "print('Número de datos de la clase 1: {}'.format((data['Clase']==1).sum()))\n",
    "outliersGCH1=deteccionOutilers_IQR(data['gch'][data['Clase']==1],k)\n",
    "print('Numero de outliers detectados con la tecnica de IQR: ',outliersGCH1.sum())\n",
    "print('Visualizamos caules son los outliers\\n{}'.format(data['gch'][data['Clase']==1][outliersGCH1]))"
   ]
  },
  {
   "cell_type": "code",
   "execution_count": 22,
   "id": "9c006bb6",
   "metadata": {},
   "outputs": [
    {
     "name": "stdout",
     "output_type": "stream",
     "text": [
      "Número de datos de la clase 4: 25\n",
      "Numero de outliers detectados con la tecnica de IQR:  0\n",
      "Visualizamos caules son los outliers\n",
      "Series([], Name: gch, dtype: float64)\n"
     ]
    }
   ],
   "source": [
    "print('Número de datos de la clase 4: {}'.format((data['Clase']==4).sum()))\n",
    "outliersGCH4=deteccionOutilers_IQR(data['gch'][data['Clase']==4],k)\n",
    "print('Numero de outliers detectados con la tecnica de IQR: ',outliersGCH4.sum())\n",
    "print('Visualizamos caules son los outliers\\n{}'.format(data['gch'][data['Clase']==4][outliersGCH4]))"
   ]
  },
  {
   "cell_type": "markdown",
   "id": "d2266e4f",
   "metadata": {},
   "source": [
    "El único dato que se mantiene como anómalo es el correspondiente a la clase cero. En los otros dos casos el dato deja de ser considerado como *outlier* y como no hay una gran cantidad de datos en esas dos clases, mantengo los datos. Sin embargo, con el dato correspondiente a la clase 0, como este subconjunto de datos considero que tiene una cantidad suficiente de datos en comparación al resto, lo supongo como *outlier*."
   ]
  },
  {
   "cell_type": "markdown",
   "id": "47290dee",
   "metadata": {},
   "source": [
    "**LIP, CHG, AAC, ALM1 Y ALM2**"
   ]
  },
  {
   "cell_type": "markdown",
   "id": "40afcc0f",
   "metadata": {},
   "source": [
    "A continuación, vuelvo a repetir el proceso de análisis que he llevado a cabo en los dos casos anteriores. No obstante, considero que el proceso puede resultar repetitivo por lo que analizaré las 5 variables explicativas restantes al mismo tiempo. \n",
    "\n",
    "He de mencionar, que ya no mostraré la descripción de cada característica debido a que llego siempre a la misma conclusión, los valores se distribuyen en el intervalo (0,1)."
   ]
  },
  {
   "cell_type": "markdown",
   "id": "861b99f8",
   "metadata": {},
   "source": [
    "Comienzo obteniendo una gráfica de la distribución de cada variable respecto a la clase que pertenece cada dato, a través de gráficas de cajas como en los dos casos anteriores."
   ]
  },
  {
   "cell_type": "code",
   "execution_count": 23,
   "id": "81950aa7",
   "metadata": {
    "scrolled": false
   },
   "outputs": [
    {
     "data": {
      "image/png": "[encoded data removed]",
      "text/plain": [
       "<Figure size 1440x1440 with 5 Axes>"
      ]
     },
     "metadata": {
      "needs_background": "light"
     },
     "output_type": "display_data"
    }
   ],
   "source": [
    "variables_restantes=list(data.columns[2:-1])\n",
    "fig, axs = plt.subplots(nrows=len(variables_restantes),figsize=(20,20))\n",
    "for i in range(len(variables_restantes)):\n",
    "    sns.boxplot(y=variables_restantes[i], x='Clase' ,data=data,ax=axs[i],palette='Set3')    "
   ]
  },
  {
   "cell_type": "markdown",
   "id": "2ad34c26",
   "metadata": {},
   "source": [
    "Después de mostrar las distribuciones de cada variable respecto a la clase que pertenecen paso a analizar cada caso por separado. Empiezo con la variable **lip**, donde observo que hay tres clases (1, 4 y 5) en las que se observa la presencia de posibles *outliers*. Sin embargo, debo analizar si estos *outliers* realmente son peligrosos para el aprendizaje o si son casos especiales que deben permanecer dentro del conjunto, como en los casos anteriores. Para ello analizaré a fondo la variable **lip**, ya que no parece una variable con las mismas características que las demás."
   ]
  },
  {
   "cell_type": "code",
   "execution_count": 24,
   "id": "26ec2ce9",
   "metadata": {},
   "outputs": [
    {
     "name": "stdout",
     "output_type": "stream",
     "text": [
      "count    235.000000\n",
      "mean       0.497702\n",
      "std        0.094497\n",
      "min        0.480000\n",
      "25%        0.480000\n",
      "50%        0.480000\n",
      "75%        0.480000\n",
      "max        1.000000\n",
      "Name: lip, dtype: float64\n"
     ]
    },
    {
     "data": {
      "text/plain": [
       "<AxesSubplot:>"
      ]
     },
     "execution_count": 24,
     "metadata": {},
     "output_type": "execute_result"
    },
    {
     "data": {
      "image/png": "[encoded data removed]",
      "text/plain": [
       "<Figure size 360x216 with 1 Axes>"
      ]
     },
     "metadata": {
      "needs_background": "light"
     },
     "output_type": "display_data"
    }
   ],
   "source": [
    "fig, axs = plt.subplots(figsize=(5,3))\n",
    "print(data['lip'].describe())\n",
    "sns.boxplot(data=data['lip'],palette='Set2')"
   ]
  },
  {
   "cell_type": "markdown",
   "id": "a6208bb5",
   "metadata": {},
   "source": [
    "Visualizo que en la variable **lip** generalmente todos los valores roman el valor 0.48 a excepción de las clases 2 y 6, que toman el valor 1. Esto es un claro indicio de que un valor de 1 en esta variable podría ser un rasgo de estas dos clases (algo a tener en cuenta en la [Selección de variables](#Selección-de-variables)). Sin embargo, como ya he comentado, hay algunos datos en las clases 1, 4 y 5 que también toman el valor 1 y esto podría ser un claro indicio de que son ruido. Observamos la cantidad de datos con valor uno y distinto de uno que hay en cada clase, y analizaré con la técnica del *IQR* la existencia de *outliers*."
   ]
  },
  {
   "cell_type": "code",
   "execution_count": 25,
   "id": "0fcb4cf5",
   "metadata": {},
   "outputs": [],
   "source": [
    "k=3"
   ]
  },
  {
   "cell_type": "code",
   "execution_count": 26,
   "id": "b29120ff",
   "metadata": {},
   "outputs": [
    {
     "name": "stdout",
     "output_type": "stream",
     "text": [
      "Clase 1 valor distinto de 1:  53\n",
      "Clase 1 valor igual a 1:  1\n",
      "Numero de outliers detectados con la tecnica de IQR:  1\n",
      "True\n"
     ]
    }
   ],
   "source": [
    "print('Clase 1 valor distinto de 1: ',np.sum([(data['lip']!=1)&(data['Clase']==1)]))\n",
    "print('Clase 1 valor igual a 1: ',np.sum([(data['lip']==1)&(data['Clase']==1)]))\n",
    "outlierLip1=(data['lip']==1)&(data['Clase']==1)\n",
    "outlier=deteccionOutilers_IQR(data['lip'][data['Clase']==1],k)\n",
    "print('Numero de outliers detectados con la tecnica de IQR: ',outlier.sum())\n",
    "print(np.sum(outlier&outlierLip1)==outlier.sum())"
   ]
  },
  {
   "cell_type": "code",
   "execution_count": 27,
   "id": "f0dee6c2",
   "metadata": {},
   "outputs": [
    {
     "name": "stdout",
     "output_type": "stream",
     "text": [
      "Clase 4 valor distinto de 1:  24\n",
      "Clase 4 valor igual a 1:  1\n",
      "True\n"
     ]
    }
   ],
   "source": [
    "print('Clase 4 valor distinto de 1: ',np.sum([(data['lip']!=1)&(data['Clase']==4)]))\n",
    "print('Clase 4 valor igual a 1: ',np.sum([(data['lip']==1)&(data['Clase']==4)]))\n",
    "outlierLip4=(data['lip']==1)&(data['Clase']==4)\n",
    "outlier=deteccionOutilers_IQR(data['lip'][data['Clase']==4],k)\n",
    "print(np.sum(outlier&outlierLip4)==outlier.sum())"
   ]
  },
  {
   "cell_type": "code",
   "execution_count": 28,
   "id": "5a2526b8",
   "metadata": {},
   "outputs": [
    {
     "name": "stdout",
     "output_type": "stream",
     "text": [
      "Clase 5 valor distinto de 1:  13\n",
      "Clase 5 valor igual a 1:  1\n",
      "True\n"
     ]
    }
   ],
   "source": [
    "print('Clase 5 valor distinto de 1: ',np.sum([(data['lip']!=1)&(data['Clase']==5)]))\n",
    "print('Clase 5 valor igual a 1: ',np.sum([(data['lip']==1)&(data['Clase']==5)]))\n",
    "outlierLip5=(data['lip']==1)&(data['Clase']==5)\n",
    "outlier=deteccionOutilers_IQR(data['lip'][data['Clase']==5],k)\n",
    "print(np.sum(outlier&outlierLip5)==outlier.sum())"
   ]
  },
  {
   "cell_type": "markdown",
   "id": "5520fd62",
   "metadata": {},
   "source": [
    "Una vez muestro los casos de estas tres clases, en mi opinión estos datos está claro que son *outliers*. Por ello, los clasificaré como *outliers*, dado que si no alterarán el aprendizaje del clasificador claramente. Por lo tanto, aparto estos tres datos."
   ]
  },
  {
   "cell_type": "markdown",
   "id": "69ccaa4a",
   "metadata": {},
   "source": [
    "Continúo el análisis con la variable **chg** donde no observo ningún dato que pueda llegar a considerarse *outlier*."
   ]
  },
  {
   "cell_type": "markdown",
   "id": "a6f8a4cf",
   "metadata": {},
   "source": [
    "A continuación, trato las variables **aac, alm1** y **alm2** donde observo que en algunas clases hay algunos candidatos a *outliers*.\n",
    "Para ello identifico en que clases suceden estos casos por cada variable y busco los *outliers extremos*."
   ]
  },
  {
   "cell_type": "code",
   "execution_count": 29,
   "id": "462f1c8a",
   "metadata": {},
   "outputs": [],
   "source": [
    "k=3"
   ]
  },
  {
   "cell_type": "code",
   "execution_count": 30,
   "id": "2e26c9a4",
   "metadata": {},
   "outputs": [
    {
     "name": "stdout",
     "output_type": "stream",
     "text": [
      "\n",
      "Variable:  aac \n",
      "\n",
      "Clase:  0\n",
      "Numero de outliers detectados con la tecnica de IQR:  0\n",
      "Visualizamos caules son los outliers\n",
      "Series([], Name: aac, dtype: float64)\n",
      "\n",
      "Clase:  1\n",
      "Numero de outliers detectados con la tecnica de IQR:  1\n",
      "Visualizamos caules son los outliers\n",
      "200    0.0\n",
      "Name: aac, dtype: float64\n",
      "\n",
      "Clase:  5\n",
      "Numero de outliers detectados con la tecnica de IQR:  0\n",
      "Visualizamos caules son los outliers\n",
      "Series([], Name: aac, dtype: float64)\n",
      "\n",
      "Clase:  7\n",
      "Numero de outliers detectados con la tecnica de IQR:  0\n",
      "Visualizamos caules son los outliers\n",
      "Series([], Name: aac, dtype: float64)\n",
      "\n",
      "\n",
      "Variable:  alm1 \n",
      "\n",
      "Clase:  1\n",
      "Numero de outliers detectados con la tecnica de IQR:  0\n",
      "Visualizamos caules son los outliers\n",
      "Series([], Name: alm1, dtype: float64)\n",
      "\n",
      "Clase:  4\n",
      "Numero de outliers detectados con la tecnica de IQR:  0\n",
      "Visualizamos caules son los outliers\n",
      "Series([], Name: alm1, dtype: float64)\n",
      "\n",
      "\n",
      "Variable:  alm2 \n",
      "\n",
      "Clase:  0\n",
      "Numero de outliers detectados con la tecnica de IQR:  1\n",
      "Visualizamos caules son los outliers\n",
      "226    0.0\n",
      "Name: alm2, dtype: float64\n",
      "\n",
      "Clase:  1\n",
      "Numero de outliers detectados con la tecnica de IQR:  2\n",
      "Visualizamos caules son los outliers\n",
      "213    0.17\n",
      "224    0.23\n",
      "Name: alm2, dtype: float64\n",
      "\n",
      "Clase:  4\n",
      "Numero de outliers detectados con la tecnica de IQR:  0\n",
      "Visualizamos caules son los outliers\n",
      "Series([], Name: alm2, dtype: float64)\n",
      "\n",
      "Clase:  5\n",
      "Numero de outliers detectados con la tecnica de IQR:  3\n",
      "Visualizamos caules son los outliers\n",
      "114    0.45\n",
      "174    0.52\n",
      "234    0.15\n",
      "Name: alm2, dtype: float64\n",
      "\n"
     ]
    }
   ],
   "source": [
    "variables=['aac','alm1','alm2']\n",
    "clases_peligro={'aac':[0,1,5,7],'alm1':[1,4],'alm2':[0,1,4,5]}\n",
    "outliers=[]\n",
    "for label in variables:\n",
    "    print('\\nVariable: ',label,'\\n')\n",
    "    for clase in clases_peligro[label]:\n",
    "        #outliers\n",
    "        print('Clase: ',clase)\n",
    "        outlier=deteccionOutilers_IQR(data[label][data['Clase']==clase],k)\n",
    "        print('Numero de outliers detectados con la tecnica de IQR: ',outlier.sum())\n",
    "        print('Visualizamos caules son los outliers\\n{}\\n'.format(data[label][data['Clase']==clase][outlier]))\n",
    "        \n",
    "        if outlier.sum()!=0:\n",
    "            outliers.append(outlier)"
   ]
  },
  {
   "cell_type": "markdown",
   "id": "4d8951e8",
   "metadata": {},
   "source": [
    "Observo que se detectan 7 *outliers extremos*, por lo que los selecciono para apartarlos del resto de instancias.\n",
    "Finalmente, separo el dataset en dos conjuntos, uno con los *outliers* y otro sin ellos."
   ]
  },
  {
   "cell_type": "code",
   "execution_count": 31,
   "id": "8c8efca7",
   "metadata": {},
   "outputs": [
    {
     "name": "stdout",
     "output_type": "stream",
     "text": [
      "Outliers:  [13, 109, 30, 47, 134, 174, 200, 226, 213, 224, 114, 234]\n"
     ]
    }
   ],
   "source": [
    "data_outliers=pd.concat([data[data['Clase']==7][outliersMGC],\n",
    "data[data['Clase']==0][outliersGCH0],\n",
    "data[outlierLip1],\n",
    "data[outlierLip4],\n",
    "data[outlierLip5],\n",
    "data[data['Clase']==1][outliers[0]],\n",
    "data[data['Clase']==0][outliers[1]],\n",
    "data[data['Clase']==1][outliers[2]],\n",
    "data[data['Clase']==5][outliers[3]]])\n",
    "#print(data_outliers.shape[0])=12 numero total de outliers seleccionados (ya que hemos identificado un dato como outlier\n",
    "#en dos ocasiones, el dato 174)\n",
    "data_outliers=data_outliers.drop_duplicates()\n",
    "#indices de los outliers a eliminar\n",
    "print('Outliers: ',list(data_outliers.index))"
   ]
  },
  {
   "cell_type": "code",
   "execution_count": 32,
   "id": "ee4861c1",
   "metadata": {},
   "outputs": [
    {
     "name": "stdout",
     "output_type": "stream",
     "text": [
      "Nº instancias al inicio:  235\n",
      "Nº instancias sin outliers:  223\n"
     ]
    }
   ],
   "source": [
    "print('Nº instancias al inicio: ',data.shape[0])#numero de datos de data\n",
    "data_sinOut=data.drop(list(data_outliers.index),axis=0)\n",
    "print('Nº instancias sin outliers: ',data_sinOut.shape[0])#numero de datos sin los outliers (numero de datos de data-12)"
   ]
  },
  {
   "cell_type": "markdown",
   "id": "78615049",
   "metadata": {},
   "source": [
    "### Variable respuesta"
   ]
  },
  {
   "cell_type": "markdown",
   "id": "be65dbb1",
   "metadata": {},
   "source": [
    "A conitnuación, voy a analizar la variable respuesta donde me centraré en el número de ejemplos que hay por cada de clase para contemplar si estoy o no ante un problema no balanceado. Para ello, expongo la siguiente gráfica, la cual porporciona el número de datos que hay por cada clase."
   ]
  },
  {
   "cell_type": "code",
   "execution_count": 33,
   "id": "d669d0b9",
   "metadata": {},
   "outputs": [
    {
     "name": "stderr",
     "output_type": "stream",
     "text": [
      "C:\\Users\\unaig\\anaconda3\\envs\\py38ml\\lib\\site-packages\\seaborn\\_decorators.py:36: FutureWarning: Pass the following variable as a keyword arg: x. From version 0.12, the only valid positional argument will be `data`, and passing other arguments without an explicit keyword will result in an error or misinterpretation.\n",
      "  warnings.warn(\n"
     ]
    },
    {
     "data": {
      "image/png": "[encoded data removed]",
      "text/plain": [
       "<Figure size 720x504 with 1 Axes>"
      ]
     },
     "metadata": {
      "needs_background": "light"
     },
     "output_type": "display_data"
    }
   ],
   "source": [
    "countplt, ax = plt.subplots(figsize = (10,7))\n",
    "ax =sns.countplot(data_sinOut.iloc[:,-1],palette='Set2');\n",
    "\n",
    "# show count (+ annotate)\n",
    "for rect in ax.patches:\n",
    "    ax.text (rect.get_x() + rect.get_width()  / 2,rect.get_height()+ 0.75,rect.get_height(),horizontalalignment='center', fontsize = 11)"
   ]
  },
  {
   "cell_type": "markdown",
   "id": "1e8d61ba",
   "metadata": {},
   "source": [
    "Se observa que claramente el problema no esta balanceado, debido a que hay una clase con una proporción de datos muy superior a la de los demas (como es el caso de la clase 0) y casos donde el numero de datos que tengo es muy reducido (como las clases 6 y 5) o clases como la 2 y la 3 donde **solo tengo un dato**.\n",
    "\n",
    "Por ello, para solucionar este problema, en el apartado [\"Generación de muestras\"](#Generación-de-muestras) generaré muestras de entrenamiento y validación con distintas estrategias de preparación de datos."
   ]
  },
  {
   "cell_type": "markdown",
   "id": "7b91a99c",
   "metadata": {},
   "source": [
    "## Análisis de correlaciones"
   ]
  },
  {
   "cell_type": "markdown",
   "id": "1ca4c26c",
   "metadata": {},
   "source": [
    "Llegados a este punto, voy a hacer un análisis de correlación de las características y de la variable respuesta. Donde se observara que variables estan mas altamente relacionadas entre ellas (ya que algunas de ellas podrían ser redundantes) y de la correlación de las variables con la variable respuesta (de cara a saber que variables pueden aportar mayor información a la hora de clasificar los datos)."
   ]
  },
  {
   "cell_type": "code",
   "execution_count": 34,
   "id": "cb33ea77",
   "metadata": {},
   "outputs": [
    {
     "data": {
      "image/png": "[encoded data removed]",
      "text/plain": [
       "<Figure size 1008x1008 with 2 Axes>"
      ]
     },
     "metadata": {
      "needs_background": "light"
     },
     "output_type": "display_data"
    }
   ],
   "source": [
    "fig, axes = plt.subplots(figsize=(14,14))\n",
    "sns.heatmap(data_sinOut.corr(), vmax=.8, cbar=True, annot=True, square=True, fmt='.2f', annot_kws={'size': 10},cmap=\"YlGnBu\");"
   ]
  },
  {
   "cell_type": "markdown",
   "id": "ca641bfe",
   "metadata": {},
   "source": [
    "Se observa una gran correlación positiva entre algunas variables, como entre **gch** y **mcg** (casualmente dos variables que aportan mucha información en la variable respuesta, siendo **mcg** la que mas aporta). También se observan una alta correlacion positiva entre las variables **alm1** y **alm2**, el valor de la correlación es tan alta que se podría llegar a pensar que una de las dos no es necesaria. Además, se observan algunas correlaciones positivas mas leves, como entre las variables **chg** y **lip** o **alm1** con **aac** y **mcg** (algo que deja entrever que la variable **mcg** es de gran importancia). "
   ]
  },
  {
   "cell_type": "markdown",
   "id": "2bc46698",
   "metadata": {},
   "source": [
    "Ahora, analizaré explicitamente las correlaciones de las variables explicativas con la variable respuesta, para informarme de que variables pueden llegar a aportar mas al modelo, para ello muestro la siguiente gráfica."
   ]
  },
  {
   "cell_type": "code",
   "execution_count": 35,
   "id": "5cfdf8a8",
   "metadata": {},
   "outputs": [
    {
     "name": "stdout",
     "output_type": "stream",
     "text": [
      "Minimo:  -0.12521746794397765  Maximo:  0.6778456874070123\n"
     ]
    },
    {
     "data": {
      "image/png": "[encoded data removed]",
      "text/plain": [
       "<Figure size 1440x360 with 1 Axes>"
      ]
     },
     "metadata": {
      "needs_background": "light"
     },
     "output_type": "display_data"
    }
   ],
   "source": [
    "correlacionConClase =data_sinOut.corr().iloc[:-1,-1]\n",
    "# Mostramos el valor de correlación mínimo y máximo\n",
    "descripcion= correlacionConClase.describe()\n",
    "minimo,maximo=descripcion.loc['min'],descripcion.loc['max']\n",
    "print('Minimo: ',minimo,' Maximo: ',maximo)\n",
    "# Mostramos una figura que muestre la correlación entre las variables de entrada y de salida\n",
    "fig = plt.figure(figsize=(20,5))\n",
    "ax = fig.gca()\n",
    "ax.plot(range(correlacionConClase.shape[0]), correlacionConClase)\n",
    "ax.set_xticks(range(correlacionConClase.shape[0]))\n",
    "ax.set_xticklabels(data_sinOut.columns[:-1], rotation='90')\n",
    "plt.ylim(-1,1)\n",
    "plt.show()"
   ]
  },
  {
   "cell_type": "markdown",
   "id": "5479069d",
   "metadata": {},
   "source": [
    "Observo que las variables que mayor correlacion positiva ofrecen son las variables **mcg** y **gch** (estando las dos altamente correlacionadas entre ellas, por lo que probablemente una sea redundante). **Alm1** también tiene una correlación positiva con la variable respuesta, sin embargo, no ofrece un valor tan elevado como las anteriores variables.\n",
    "\n",
    "Avanzando en el tema, ejecutaré técnicas de selección de variables para tomar las variables que mejor resultado puedan ofrecer. Haré uso de las siguientes técnicas: el **Filtro ANOVA** y el **Wrapper SBS**. No obstante para realizar este apartado de selección de variables es necesario obtener un conjunto de datos de entrenamiento y otro de validación, ya que tomaré las variables que mayor *accuracy* proporcionen con los datos de validación. Por ello, dejo este punto pendiente de realizar (apartado [Selección de variables](#Selección-de-variables)) y continúo con la [generación de muestras](#Generación-de-muestras)."
   ]
  },
  {
   "cell_type": "markdown",
   "id": "171a6ea4",
   "metadata": {},
   "source": [
    "## Generación de muestras"
   ]
  },
  {
   "cell_type": "markdown",
   "id": "569f3356",
   "metadata": {},
   "source": [
    "Llegados a este punto, voy a generar las muestras que utilizaré a lo largo del trabajo. Para ello, primero voy a exponer la estrategia que seguiré en este apartado. \n",
    "\n",
    "Por un lado generaré unos datos sinteticos, dado que el problema no esta balanceado como ya he tratado en el apartado sobre la [variable respuesta](#Variable-respuesta), y por eso es necesario balancear el conjunto de datos. Por lo tanto, crearé una muestra que tenga datos artificiales (sin excederse en la creación de estos) y datos reales. Una vez he generado esa muestra, formaré tres subconjuntos de datos, uno de entrenamiento, uno de validación y otro de testeo (a cada subconjunto le corresponde el 60, 20 y 20% de la muestra generada).\n",
    "\n",
    "Finalmente, para ver la calidad y consistencia de los modelos, crearé tres muestras mas. Por un lado, tendré la muestra correspondiente a los *outliers*, donde podré analizar si el modelo puede llegar a tratar con estos (como ya he comentado antes, los resultados obtenidos con estos datos no tendrá gran relevancia). Por otro lado, tendré una muestra con todos los datos reales (sin los *outliers*), donde las mediciones obtenidas no serán tan relevantes debido a que estas serán **optimistas**, ya que el modelo habrá sido entrenado y validado con varios de estos datos. Por último, generaré otra muestra con datos sinteticos (pero cambiando la semilla de aleatoriedad) con los que analizaré la capacidad de generalización del módelo.  "
   ]
  },
  {
   "cell_type": "markdown",
   "id": "bfe87540",
   "metadata": {},
   "source": [
    "A continuación, genero los conjuntos de datos expuestos."
   ]
  },
  {
   "cell_type": "markdown",
   "id": "872059dd",
   "metadata": {},
   "source": [
    "**Conjunto de datos  reales**"
   ]
  },
  {
   "cell_type": "code",
   "execution_count": 36,
   "id": "53072dc0",
   "metadata": {},
   "outputs": [],
   "source": [
    "data_reales=data_sinOut.to_numpy()\n",
    "Xreales=data_reales[:,:-1]\n",
    "yreales=data_reales[:,-1]"
   ]
  },
  {
   "cell_type": "markdown",
   "id": "2d83ab5d",
   "metadata": {},
   "source": [
    "**Conjunto de *outliers***"
   ]
  },
  {
   "cell_type": "markdown",
   "id": "47aecd30",
   "metadata": {},
   "source": [
    "*Como ya he comentado sera muy dificil obtener buenos resultados en este tipo de datos, ya que se tratan de outliers extremos. Sin embargo, pueden indicar que modelo puede llegar a proporcionar una mayor robustez ante instancias con valores erroneos en algunas características.*"
   ]
  },
  {
   "cell_type": "code",
   "execution_count": 37,
   "id": "79e11015",
   "metadata": {},
   "outputs": [],
   "source": [
    "data_outliers=data_outliers.to_numpy()\n",
    "Xoutliers=data_outliers[:,:-1]\n",
    "youtliers=data_outliers[:,-1]"
   ]
  },
  {
   "cell_type": "markdown",
   "id": "1a90f062",
   "metadata": {},
   "source": [
    "**Conjunto de entrenamiento y de validación**"
   ]
  },
  {
   "cell_type": "markdown",
   "id": "ba61f7f0",
   "metadata": {},
   "source": [
    "Para generar los datos sinteticos necesarios de la muestra principal, utilizaré la técnica *SMOTE*. Luego para tomar los datos mas relevantes de las clases mayoritarias y no tener datos sintetícos dentro de los clusters de las clases que no les corresponde haré uso de la técnica *Tomek Links*.\n",
    "\n",
    "Comentar que se podrían tratar varias técnicas diferentes de preparación de datos y observar cual ofrece un mejor resultado; sin embargo, no profundizaré mas en este tema ya que el trabajo consiste en la generación de un modelo de clasificación y no de aplicar técnicas de preparación de datos. Además, considero que esta técnica es bastante eficiente y coherente.\n",
    "\n",
    "Ahora, si se intenta aplicar la técnica *SMOTE* sobre el conjunto de datos reales me tropiezo con un nuevo obstáculo, **el conjunto de datos tiene clases que no llegan a tener 6 datos, es decir, el número de vecinos necesario para  aplicar *SMOTE***. Podría reducir el número de vecinos necesarios para aplicar esta técnica (haciendo uso primero de *SMOTE* y luego de *Tomek Links*, ya que en la función *SMOTETomek* no se puede alterar el número de vecinos necesarios), sin embargo, esto no solucionaría el problema, debido a que hay clases (*las clases 2 y 3*) donde solo hay una instancia y por lo tanto estas no tienen ningún vecino.\n",
    "\n",
    "En consecuencia, se debe modificar la estrategia para resolver el inconveniente del desbalanceo. Por ello comenzaré utilizando la técnica *ROS* (*RandomOverSampler*) en las clases que tengan menos de 7 instancias, ya que para hacer uso de esta técnica no es necesario tener un minínimo de vecinos. Una vez aplicada, esta técnica aplicaré *SMOTETomek* en el conjunto de datos generados. Para hacer este segundo paso, como tengo que tener en cuenta todas las clases, aplicaré *SMOTETomek* en todo el conjunto pero luego eliminaré una gran cantidad de instancias de las clases que han sido expuestas a la técnica *ROS* para evitar el sobre-aprendizaje."
   ]
  },
  {
   "cell_type": "code",
   "execution_count": 38,
   "id": "c39d0edf",
   "metadata": {},
   "outputs": [],
   "source": [
    "import imblearn.over_sampling as os\n",
    "import imblearn.combine as hib\n",
    "#tomamos las clases en las que tenemos menos de 7 datos (1 instancia y sus 6 vecinos)\n",
    "clases=[0,1,2,3,4,5,6,7]\n",
    "minimas={}\n",
    "\n",
    "for label in clases:\n",
    "    num=list(yreales).count(label)\n",
    "    if num<7:\n",
    "        minimas[label]=round(num*18/(num+1))#aumentamos levementela cantida de datos, lo suficiente para aplicar luego SMOTEENN\n",
    "        #ya que en ese proceso el numero de instancia también aumentara\n",
    "\n",
    "ros=os.RandomOverSampler(random_state=42,sampling_strategy=minimas)\n",
    "smoteTomek=hib.SMOTETomek(random_state=42)\n",
    "\n",
    "#comenzamos con la generación de los vecinos minimos\n",
    "X_sampled, y_sampled =ros.fit_resample(Xreales,yreales)\n",
    "\n",
    "#continuamos aplicando SMOTE y ENN, solo en los datos que no pertenecen a las clases anteriores\n",
    "X_sampled, y_sampled =smoteTomek.fit_resample(X_sampled,y_sampled)"
   ]
  },
  {
   "cell_type": "markdown",
   "id": "88cd2a58",
   "metadata": {},
   "source": [
    "A continuación, muestro el conjunto de datos actual y como esta balanceado."
   ]
  },
  {
   "cell_type": "code",
   "execution_count": 39,
   "id": "23004412",
   "metadata": {},
   "outputs": [
    {
     "name": "stderr",
     "output_type": "stream",
     "text": [
      "C:\\Users\\unaig\\anaconda3\\envs\\py38ml\\lib\\site-packages\\seaborn\\_decorators.py:36: FutureWarning: Pass the following variable as a keyword arg: x. From version 0.12, the only valid positional argument will be `data`, and passing other arguments without an explicit keyword will result in an error or misinterpretation.\n",
      "  warnings.warn(\n"
     ]
    },
    {
     "data": {
      "image/png": "[encoded data removed]",
      "text/plain": [
       "<Figure size 360x360 with 1 Axes>"
      ]
     },
     "metadata": {
      "needs_background": "light"
     },
     "output_type": "display_data"
    }
   ],
   "source": [
    "countplt, ax = plt.subplots(figsize = (5,5))\n",
    "ax =sns.countplot(y_sampled,palette='Paired');\n",
    "\n",
    "# show count (+ annotate)\n",
    "for rect in ax.patches:\n",
    "    ax.text (rect.get_x() + rect.get_width()  / 2,rect.get_height()+ 0.75,rect.get_height(),horizontalalignment='center', fontsize = 11)"
   ]
  },
  {
   "cell_type": "markdown",
   "id": "8e34c859",
   "metadata": {},
   "source": [
    "Ahora eliminaré varias de las instancias de la clase 2, 3 y 6. Estas instancia que elimino, son la misma instancia repetida todo el rato, dado que, a la hora de hacer *SMOTE* con las clases 2 y 3, solo he repetido el mismo dato y esto puede llevar a que el modelo sobre-aprenda estas instancias (solo clasificará estas clases cuando las instancias tengan los mismos valores). Es cierto, que se desbalanceará un poco el conjunto, pero considero que es necesario para no caer en el sobre-aprendizaje."
   ]
  },
  {
   "cell_type": "code",
   "execution_count": 40,
   "id": "b7141f03",
   "metadata": {},
   "outputs": [],
   "source": [
    "#reducción de instancias en las clases que han sufrido ROS\n",
    "for label in minimas.keys():\n",
    "    #obtenemos las instancias que se han replicado\n",
    "    Xreplicate=Xreales[yreales==label]\n",
    "    indices=[]\n",
    "    #obtenemos donde aparecen en el conjunto de datos generado\n",
    "    for dato in Xreplicate:\n",
    "        indices=np.where((X_sampled==dato).all(axis=1))[0]\n",
    "        #una vez tenemos los indices si el número de replicaciones es superior a 50 tomaremos un 37.5% de los datos, con \n",
    "        #repeticiones entre 50 y 10, el 50% de los datos.\n",
    "        if len(indices)>50:\n",
    "            eliminar=indices[:round(len(indices)//1.5)]\n",
    "            X_sampled=np.delete(X_sampled,eliminar,axis=0)\n",
    "            y_sampled=np.delete(y_sampled,eliminar,axis=0)\n",
    "        elif len(indices)>10:            \n",
    "            eliminar=indices[:round(len(indices)//2)]\n",
    "            X_sampled=np.delete(X_sampled,eliminar,axis=0)\n",
    "            y_sampled=np.delete(y_sampled,eliminar,axis=0)"
   ]
  },
  {
   "cell_type": "markdown",
   "id": "225c25d9",
   "metadata": {},
   "source": [
    "Una vez he aplicado la estrategia en su totalidad, muestro la cantidad de datos y el número de instancias por clase que tengo actualmente."
   ]
  },
  {
   "cell_type": "code",
   "execution_count": 41,
   "id": "0ea3d974",
   "metadata": {},
   "outputs": [
    {
     "name": "stdout",
     "output_type": "stream",
     "text": [
      "Numero de instancias iniciales:  223\n",
      "Numero de instancias actuales:  620\n"
     ]
    }
   ],
   "source": [
    "print('Numero de instancias iniciales: ',Xreales.shape[0])\n",
    "print('Numero de instancias actuales: ',X_sampled.shape[0])"
   ]
  },
  {
   "cell_type": "code",
   "execution_count": 42,
   "id": "97214e77",
   "metadata": {},
   "outputs": [
    {
     "name": "stderr",
     "output_type": "stream",
     "text": [
      "C:\\Users\\unaig\\anaconda3\\envs\\py38ml\\lib\\site-packages\\seaborn\\_decorators.py:36: FutureWarning: Pass the following variable as a keyword arg: x. From version 0.12, the only valid positional argument will be `data`, and passing other arguments without an explicit keyword will result in an error or misinterpretation.\n",
      "  warnings.warn(\n"
     ]
    },
    {
     "data": {
      "image/png": "[encoded data removed]",
      "text/plain": [
       "<Figure size 360x360 with 1 Axes>"
      ]
     },
     "metadata": {
      "needs_background": "light"
     },
     "output_type": "display_data"
    }
   ],
   "source": [
    "countplt, ax = plt.subplots(figsize = (5,5))\n",
    "ax =sns.countplot(y_sampled,palette='Paired');\n",
    "\n",
    "# show count (+ annotate)\n",
    "for rect in ax.patches:\n",
    "    ax.text (rect.get_x() + rect.get_width()  / 2,rect.get_height()+ 0.75,rect.get_height(),horizontalalignment='center', fontsize = 11)"
   ]
  },
  {
   "cell_type": "markdown",
   "id": "74889f9b",
   "metadata": {},
   "source": [
    "Observo que ya he balanceado bastante nuestro conjunto de datos, donde he generado suficientes instancias de cada clase y he eliminado instancias consideradas ruido con *Tomek Links*. Por lo tanto, puedo proceder a crear los conjuntos de entrenamiento, validación y testeo.\n",
    "\n",
    "Hay que tener en cuenta que en las clases en las que he aplicado la técnica *ROS* lo único que he hecho es replicar los datos que ya tenía, por lo que a la hora de validar tendré unos resultados un tanto optimistas, dada la existencia de estos datos en el conjunto de entrenamiento, pero creo que es el procedimiento mas eficiente que puedo llevar a cabo."
   ]
  },
  {
   "cell_type": "code",
   "execution_count": 43,
   "id": "ec6f7b7a",
   "metadata": {},
   "outputs": [],
   "source": [
    "from sklearn import model_selection\n",
    "\n",
    "X_train, X, y_train, y =model_selection.train_test_split(X_sampled,y_sampled,\n",
    "                                                        train_size=0.6, random_state=42)\n",
    "\n",
    "X_val, X_test, y_val, y_test =model_selection.train_test_split(X,y,\n",
    "                                                        train_size=0.5, random_state=42)"
   ]
  },
  {
   "cell_type": "markdown",
   "id": "4f701b3e",
   "metadata": {},
   "source": [
    "Expongo el número de instancias de cada muestra y el número de instancias por clase."
   ]
  },
  {
   "cell_type": "code",
   "execution_count": 44,
   "id": "bb8c31bc",
   "metadata": {},
   "outputs": [
    {
     "name": "stdout",
     "output_type": "stream",
     "text": [
      "Número de instancias de entrenamiento:  372\n",
      "Número de instancias de validación:  124\n",
      "Número de instancias de test:  124\n"
     ]
    },
    {
     "name": "stderr",
     "output_type": "stream",
     "text": [
      "C:\\Users\\unaig\\anaconda3\\envs\\py38ml\\lib\\site-packages\\seaborn\\_decorators.py:36: FutureWarning: Pass the following variable as a keyword arg: x. From version 0.12, the only valid positional argument will be `data`, and passing other arguments without an explicit keyword will result in an error or misinterpretation.\n",
      "  warnings.warn(\n",
      "C:\\Users\\unaig\\anaconda3\\envs\\py38ml\\lib\\site-packages\\seaborn\\_decorators.py:36: FutureWarning: Pass the following variable as a keyword arg: x. From version 0.12, the only valid positional argument will be `data`, and passing other arguments without an explicit keyword will result in an error or misinterpretation.\n",
      "  warnings.warn(\n",
      "C:\\Users\\unaig\\anaconda3\\envs\\py38ml\\lib\\site-packages\\seaborn\\_decorators.py:36: FutureWarning: Pass the following variable as a keyword arg: x. From version 0.12, the only valid positional argument will be `data`, and passing other arguments without an explicit keyword will result in an error or misinterpretation.\n",
      "  warnings.warn(\n"
     ]
    },
    {
     "data": {
      "image/png": "[encoded data removed]",
      "text/plain": [
       "<Figure size 1656x648 with 3 Axes>"
      ]
     },
     "metadata": {
      "needs_background": "light"
     },
     "output_type": "display_data"
    }
   ],
   "source": [
    "print('Número de instancias de entrenamiento: ',X_train.shape[0])\n",
    "print('Número de instancias de validación: ',X_val.shape[0])\n",
    "print('Número de instancias de test: ',X_test.shape[0])\n",
    "\n",
    "countplt, axes = plt.subplots(figsize = (23,9),ncols=3)\n",
    "\n",
    "sns.countplot(y_train,ax=axes[0],palette='Paired');\n",
    "axes[0].set_title('Train')\n",
    "for rect in axes[0].patches:\n",
    "    axes[0].text (rect.get_x() + rect.get_width()  / 2,rect.get_height()+ 0.75,rect.get_height(),horizontalalignment='center', fontsize = 11)\n",
    "\n",
    "axes[1].set_title('Val')   \n",
    "sns.countplot(y_val,ax=axes[1],palette='Paired');\n",
    "for rect in axes[1].patches:\n",
    "    axes[1].text (rect.get_x() + rect.get_width()  / 2,rect.get_height()+ 0.75,rect.get_height(),horizontalalignment='center', fontsize = 11) \n",
    "    \n",
    "axes[2].set_title('Test')   \n",
    "sns.countplot(y_test,ax=axes[2],palette='Paired');\n",
    "for rect in axes[2].patches:\n",
    "    axes[2].text (rect.get_x() + rect.get_width()  / 2,rect.get_height()+ 0.75,rect.get_height(),horizontalalignment='center', fontsize = 11)    "
   ]
  },
  {
   "cell_type": "markdown",
   "id": "4b9194a3",
   "metadata": {},
   "source": [
    "Se observa que en general las tres muestras estan balanceadas, a excepción de las clases 2 y 3 por la reducción que he realizado."
   ]
  },
  {
   "cell_type": "markdown",
   "id": "457147e4",
   "metadata": {},
   "source": [
    "**Conjunto de datos sinteticos**"
   ]
  },
  {
   "cell_type": "markdown",
   "id": "b0e0ec39",
   "metadata": {},
   "source": [
    "A continuación, de cara a saber si el modelo generaliza correctamente los datos, genero una muestra de instancias artificiales con *ROS* y *SMOTE*. Los resultados obtenidos a raíz de esta muestra no verificaran una solución óptima pero pueden llegar a dar un indicio de la capacidad de generalización del modelo. Para no obtener los mismos datos que los generados antes, alteraré el valor semilla de aleatoriedad. Además, eliminaré los datos de la muestra generada anteriormente para evitar que los resultados sean optimistas."
   ]
  },
  {
   "cell_type": "code",
   "execution_count": 45,
   "id": "566f71e8",
   "metadata": {},
   "outputs": [],
   "source": [
    "ros=os.RandomOverSampler(random_state=123456,sampling_strategy=minimas)\n",
    "smote=os.SMOTE(random_state=123456)\n",
    "\n",
    "#comenzamos con la generación de los vecinos minimos\n",
    "X_artificial, y_artificial =ros.fit_resample(Xreales,yreales)\n",
    "\n",
    "#continuamos aplicando SMOTE y ENN, solo en los datos que no pertenecen a las clases anteriores\n",
    "X_artificial, y_artificial =smote.fit_resample(X_artificial,y_artificial)\n",
    "\n",
    "#eliminamos los datos del conjunto de datos reales para que los resultados en este apartado no sean tan optimistas\n",
    "data_artificial=pd.DataFrame(np.hstack((X_artificial, y_artificial.reshape(-1,1))),columns=data_sinOut.columns)\n",
    "data_filtro=pd.DataFrame(np.hstack((X_sampled,y_sampled.reshape(-1,1))),columns=data_sinOut.columns)\n",
    "\n",
    "\n",
    "a_index=data_artificial.set_index(list(data_sinOut.columns)).index\n",
    "b_index=data_filtro.set_index(list(data_sinOut.columns)).index\n",
    "mask=~a_index.isin(b_index)\n",
    "result=data_artificial.loc[mask].to_numpy()\n",
    "\n",
    "X_artificial, y_artificial=result[:,:-1], result[:,-1]"
   ]
  },
  {
   "cell_type": "markdown",
   "id": "7d353f87",
   "metadata": {},
   "source": [
    "He de comentar, que aunque considero bastante útil los resultados obtenidos con esta muestra, pueden no ser realmente relevantes, ya que puede darse el caso de que se creen datos irreales."
   ]
  },
  {
   "cell_type": "markdown",
   "id": "2960b266",
   "metadata": {},
   "source": [
    "## Selección de variables"
   ]
  },
  {
   "cell_type": "markdown",
   "id": "dfcd65ce",
   "metadata": {},
   "source": [
    "Una vez he obtenido los datos de entrenamiento y de validación, ya puedo continuar con la generación de modelos y su entrenamiento. Sin embargo, como trate en el apartado de [análisis de correlaciones](#Análisis-de-correlaciones), es interesante pensar que puedo llegar a obtener un mejor resultado en los modelos si solo se hace uso de algunas características. Estas variables las utilizaré para generar modelos mas simples, en los que analizaré si se obtiene una mejora de los resultados, ya que muchas veces un modelo mas simple puede ayudar a no tener variables redundantes que confundan el aprendizaje del algoritmo.\n",
    "\n",
    "Para ello como trate en aquel apartado, haré uso de dos técnicas: el **Filtro ANOVA** y el **Wrapper SBS**. A la hora de establecer un limite de variables a incluir en el modelo, considero que podría ser interesante tomar 4 variables. A continuación, ejecuto las dos técnicas y tomaré la que mejor *accuracy* proporcione con la muestra de validación."
   ]
  },
  {
   "cell_type": "code",
   "execution_count": 46,
   "id": "53d8231f",
   "metadata": {},
   "outputs": [
    {
     "name": "stdout",
     "output_type": "stream",
     "text": [
      "\n",
      "Método:  Wrapper SBS\n",
      "Resultado en entrenamiento: 95.6989247311828%\n",
      "Resultado en validación: 90.32258064516128%\n",
      "['mcg', 'lip', 'aac', 'alm2']\n",
      "\n",
      "Método:  Filtro Anova\n",
      "Resultado en entrenamiento: 88.17204301075269%\n",
      "Resultado en validación: 89.51612903225806%\n",
      "['chg', 'aac', 'alm1', 'alm2']\n"
     ]
    },
    {
     "name": "stderr",
     "output_type": "stream",
     "text": [
      "C:\\Users\\unaig\\anaconda3\\envs\\py38ml\\lib\\site-packages\\sklearn\\feature_selection\\_univariate_selection.py:116: RuntimeWarning: divide by zero encountered in true_divide\n",
      "  f = msb / msw\n"
     ]
    }
   ],
   "source": [
    "from imblearn.pipeline import Pipeline\n",
    "from sklearn.decomposition import PCA\n",
    "from sklearn import feature_selection\n",
    "from sklearn import linear_model\n",
    "from sklearn import neighbors, metrics\n",
    "\n",
    "sbs = feature_selection.RFE(linear_model.LogisticRegression(solver='lbfgs'), n_features_to_select=4, step=1)\n",
    "anova = feature_selection.SelectKBest(feature_selection.f_classif, k=4)\n",
    "\n",
    "listaMetodosSV = ['Wrapper SBS', 'Filtro Anova']\n",
    "listaTecnicasSV = [sbs,anova]\n",
    "\n",
    "for nombre, metodo in zip(listaMetodosSV, listaTecnicasSV):\n",
    "    pipe = Pipeline([(nombre,metodo),('clasificadorKNN', neighbors.KNeighborsClassifier(n_neighbors=5))])\n",
    "    pipe = pipe.fit(X_train,y_train)\n",
    "    print('\\nMétodo: ',nombre)\n",
    "    prediccionesTrain = pipe.predict(X_train)\n",
    "    accTrain = metrics.accuracy_score(prediccionesTrain,y_train)*100\n",
    "    print('Resultado en entrenamiento: {}%'.format(accTrain))\n",
    "    \n",
    "    prediccionesTest = pipe.predict(X_val)\n",
    "    accVal = metrics.accuracy_score(prediccionesTest,y_val)*100\n",
    "    print('Resultado en validación: {}%'.format(accVal))\n",
    "    \n",
    "    print(list(data.columns[:-1][metodo.get_support()]))"
   ]
  },
  {
   "cell_type": "markdown",
   "id": "e08303e9",
   "metadata": {},
   "source": [
    "Observo que hay dos variables que aportan gran información a la hora de hacer la clasificación según las técnicas utilizadas, las variables **mcg** y **alm2**. Luego, aparece la variable **chg** en la técnica *ANOVA* y **lip** en la técnica *SBS*, las cuales tal y como observe en la matriz de correlaciones, estan bastante correlacionadas positivamente. Caso similar el que sucede con las variables **aac** y **alm1**.\n",
    "\n",
    "Finalmente, se opta por seleccionar las siguientes variables: **mcg**, **lip**,**aac** y **alm2**, ya que es con las que obtengo un mayor resultado en el conjunto de validación entre las dos técnicas."
   ]
  },
  {
   "cell_type": "markdown",
   "id": "1c17ce65",
   "metadata": {},
   "source": [
    "## Modelos de clasificación"
   ]
  },
  {
   "cell_type": "markdown",
   "id": "1b02abe3",
   "metadata": {},
   "source": [
    "A continuación, llego finalmente al objetivo principal, la creación de modelos de aprendizaje para poder hacer la clasificación de los datos.\n",
    "\n",
    "Antes de empezar con la creación, expondré brevemente el procedimiento que voy a seguir. He tomado varias técnicas de aprendizaje automatico y con cada una de ellas seguire un protocolo similar."
   ]
  },
  {
   "cell_type": "markdown",
   "id": "17588f96",
   "metadata": {},
   "source": [
    "<font color='salmon'><h3> Protocolo</h3></font>"
   ]
  },
  {
   "cell_type": "markdown",
   "id": "8af2c052",
   "metadata": {},
   "source": [
    "<font color='rosybrown'>\n",
    "    \n",
    "Comienzo entrenando el modelo con los datos de entrenamiento. Luego, decidiré los hiperparémetros optimos según los resultados obtenidos con el conjunto de validación (al mismo tiempo que selecciono con cuantas variables se obtiene mejor resultado). Finalmente, observaré que resultados obtengo con el resto de muestras que he preparado en el apartado [generación de muestras](#Generación-de-muestras)\n",
    "    ; aunque a la hora de comparar entre distintos modelos, me centraré en los resultados obtenido en test principalmente.\n",
    "\n",
    "Los resultados que analizaré con cada muestra seran el *accuracy* y el *f score* porporcionado por el modelo para cada conjunto propuesto, siendo el *accuracy* de  los datos validados el que determine principalmente la calidad de este.\n",
    "\n",
    "Luego porporcionaré el *f score* de cada clase de los datos obtenidos en test (mostrando además la matriz confusión proporcionada por el modelo) y varios *f score* generales calculados (me centraré en el *f score* proporcionado por *macro* correspondiente a la media no ponderada del *f score* de cada etiqueta). Además, mostrare el *accuracy* obtenido con cada muestra. Una vez he obtenido el modelo validado, analizaré los resultados de los datos de test, dado que estos no seran optimistas (por ello solo proporcionaré la salida de los *f score* de test, ya que son los que mas interesan).\n",
    "\n",
    "Para obtener el mejor resultado posible crearé varios modelos con distintos hiperparámetros. En algun caso se podría probar también a añadir variables polinomiales, por si estas ofrecen una mejora en el resultado. Recuerdo, que a la hora de usar distintos grados de polinomio, habra que normalizar los datos, ya que se pueden tener variables con mayor peso en el modelo solo por tener un rango de distribución mayor. Sin embargo, considero que ya hay suficientes variables en el problema y no creo que sea muy interesante añadir mas, al contrario, creo que sería mas interesante tomar menos variables como he tratado en la [selección de variables](#Selección-de-variables),para poder reducir el coste computacional y eliminar posibles características redundantes. Por ello no haré uso de esa estrategia en este trabajo.\n",
    "\n",
    "Además, para cada modelo, repetiré el proceso de selección de hiperparámetros tomando solo las cuatro variables seleccionadas en la [selección de variables](#Selección-de-variables), de modo que en cada tipo de clasificador tomaré el modelo que mejor *accuracy* proporcione según sus hiperparámetros y las variables que utilize.\n",
    "</font>"
   ]
  },
  {
   "cell_type": "markdown",
   "id": "e7e9d87c",
   "metadata": {},
   "source": [
    "Avanzo y muestro las distintas técnicas que voy a tratar.\n",
    "\n",
    "- [Naive Bayes](#Naive-Bayes)\n",
    "- [Redes nueronales](#Redes-nueronales)\n",
    "- [Aprendizaje no supervisado](#Aprendizaje-no-supervisado)\n",
    "- [Ensembles basados en variación de datos](Ensembles-basados-en-variación-de-datos)\n",
    "- [Ensembles basados en descomposición](#Ensembles-basados-en-descomposición)"
   ]
  },
  {
   "cell_type": "markdown",
   "id": "d8292d8d",
   "metadata": {},
   "source": [
    "Antes de comenzar a generar modelos, voy a cargar todos los módulos necesarios para el uso de estos y generare el filtro necesario para evaluar con todas las variables o solo con las 4 seleccionadas."
   ]
  },
  {
   "cell_type": "code",
   "execution_count": 47,
   "id": "79dcce58",
   "metadata": {},
   "outputs": [],
   "source": [
    "from sklearn import metrics\n",
    "from sklearn.metrics import plot_confusion_matrix\n",
    "from sklearn.metrics import classification_report\n",
    "\n",
    "from sklearn import naive_bayes\n",
    "from sklearn.neural_network import MLPClassifier\n",
    "from sklearn.cluster import KMeans\n",
    "from sklearn.cluster import AgglomerativeClustering\n",
    "\n",
    "from sklearn.tree import DecisionTreeClassifier\n",
    "from sklearn.ensemble import BaggingClassifier\n",
    "from sklearn.ensemble import RandomForestClassifier\n",
    "from sklearn.ensemble import AdaBoostClassifier\n",
    "\n",
    "from sklearn.multiclass import OneVsRestClassifier\n",
    "from sklearn.multiclass import OneVsOneClassifier\n",
    "from sklearn.model_selection import GridSearchCV\n",
    "from sklearn import svm\n",
    "from sklearn.linear_model import LogisticRegression\n",
    "\n",
    "#indices de  mcg, lip ,aac y alm2.\n",
    "indices=[0,2,4,6]\n",
    "todos=np.ones(X_train.shape[1], dtype=bool)\n",
    "filtro=[indices,todos]\n",
    "tipo=['Modelo con las cuatro variables seleccionadas','Modelo con todas las variables']\n",
    "\n",
    "#modelos seleccionados\n",
    "best_selection={}"
   ]
  },
  {
   "cell_type": "markdown",
   "id": "9643862f",
   "metadata": {},
   "source": [
    "Además, genero una función **resultados**, que utilizaré con el modelo final de cada técnica para visualizar los resultado que he obtenido con todas las muestras, tal y como he expuesto en el protocolo."
   ]
  },
  {
   "cell_type": "code",
   "execution_count": 48,
   "id": "2fe7d1b8",
   "metadata": {},
   "outputs": [],
   "source": [
    "def resultados(modelo,best_params,boolean=True):\n",
    "    \n",
    "    modelo.fit(X_train[:,best_params['Var']],y_train)\n",
    "    \n",
    "    pTrain=modelo.predict(X_train[:,best_params['Var']])\n",
    "    accTrain=metrics.accuracy_score(pTrain,y_train)\n",
    "    \n",
    "    pVal=modelo.predict(X_val[:,best_params['Var']])\n",
    "    accVal=metrics.accuracy_score(pVal,y_val)\n",
    "        \n",
    "    pTest=modelo.predict(X_test[:,best_params['Var']])\n",
    "    accTest=metrics.accuracy_score(pTest,y_test)\n",
    "    \n",
    "    pOutliers=modelo.predict(Xoutliers[:,best_params['Var']])\n",
    "    accOutliers=metrics.accuracy_score(pOutliers,youtliers)\n",
    "    \n",
    "    pReales=modelo.predict(Xreales[:,best_params['Var']])\n",
    "    accReales=metrics.accuracy_score(pReales,yreales)\n",
    "    \n",
    "    pArt=modelo.predict(X_artificial[:,best_params['Var']])\n",
    "    accArtificiales=metrics.accuracy_score(pArt, y_artificial)\n",
    "\n",
    "    emaitzakAcc={'Info':'Accuracy','Train':[accTrain],'Val':[accVal],'Test':[accTest],\n",
    "                      'Outliers':[accOutliers],'Reales':[accReales],'Artificiales':[accArtificiales]}\n",
    "\n",
    "    print('\\033[4m'+'\\033[1m'+best_params['Tipo'])\n",
    "    text=''\n",
    "    for label in best_params.keys():\n",
    "        if (label!='Tipo')and(label!='Var'):\n",
    "            text+=label+'= '+str(best_params[label])+'\\n'\n",
    "    print(text+'\\033[0m')\n",
    "        \n",
    "    emaitzak=pd.DataFrame(data=emaitzakAcc)\n",
    "    print(emaitzak)\n",
    "    \n",
    "    try:\n",
    "        if boolean:\n",
    "            fig = plot_confusion_matrix(modelo, X_test[:,best_params['Var']], y_test,display_labels=modelo.classes_)\n",
    "            fig.figure_.suptitle(\"Matriz de confusión de test\")\n",
    "            plt.show()\n",
    "    except:\n",
    "        print(\"Este modelo no proporciona la matriz de confusión\")\n",
    "    if boolean:    \n",
    "        print(classification_report(y_test, pTest))"
   ]
  },
  {
   "cell_type": "markdown",
   "id": "7b67c618",
   "metadata": {},
   "source": [
    "Llegados a este punto, comienzo realizando el protocolo expuesto con todas las técnicas. Comentar que todas las técnicas serán tratadas gracias a los modulos proporcionados por *Scikit-learn*."
   ]
  },
  {
   "cell_type": "markdown",
   "id": "89eb1b1b",
   "metadata": {},
   "source": [
    "### Naive Bayes"
   ]
  },
  {
   "cell_type": "markdown",
   "id": "61b7bcac",
   "metadata": {},
   "source": [
    "En este apartado voy a llevar a cabo la técnica *Naive Bayes*. En teoría vimos que esta técnica ofrece buenos resultados dado que podemos entrenar y clasificar de una manera rapida. Sin embargo, se que este método presupone que hay independencia entre los atributos del modelo, por lo que esto puede conllevar algunos errores en la clasificación, ya que en el apartado [análisis de correlaciones](#Análisis-de-correlaciones) he observado que hay correlación entre varias variables del dataset.\n",
    "\n",
    "A continuación, generaré un algoritmo en base a *Naive Bayes* en el que haré uso del suavizado de laplace (la técnica que tratamos en teoría a fondo, ya que el Naive Bayes multinomial no tiene coherencia en este problema) con las 4 variables seleccionadas y con todas las variables. "
   ]
  },
  {
   "cell_type": "code",
   "execution_count": 49,
   "id": "5fbe6348",
   "metadata": {},
   "outputs": [
    {
     "name": "stdout",
     "output_type": "stream",
     "text": [
      "\n",
      "Modelo con las cuatro variables seleccionadas.\n",
      "Accuracy validación: 0.9112903225806451.\n",
      "\n",
      "Modelo con todas las variables.\n",
      "Accuracy validación: 0.9435483870967742.\n"
     ]
    }
   ],
   "source": [
    "best_accVal = 0\n",
    "best_params = {'Tipo':None,'Var':None}\n",
    "\n",
    "for i in range(2):    \n",
    "    nb = naive_bayes.GaussianNB()\n",
    "    nb.fit(X_train[:,filtro[i]],y_train)\n",
    "    \n",
    "    accVal=nb.score(X_val[:,filtro[i]],y_val)\n",
    "    print('\\n{}.\\nAccuracy validación: {}.'.format(tipo[i],accVal))\n",
    "    pVal=nb.predict(X_val[:,filtro[i]])\n",
    "    \n",
    "    if accVal > best_accVal:\n",
    "            # Guardamos la mejor precisión encontrada y los parámetros usados\n",
    "            best_accVal=accVal\n",
    "            best_params['Tipo']=tipo[i]\n",
    "            best_params['Var']=filtro[i]"
   ]
  },
  {
   "cell_type": "markdown",
   "id": "e7819124",
   "metadata": {},
   "source": [
    "Analizando los resultados, se puede decir que en los dos casos se logran unos muy buenos resultados de clasificación con  el conjunto de validación. Procediendo con nuestro criterio, tomaré la opción que mayor *accuracy* proporciona, en este caso el modelo generado con todas las variables. No obstante, el modelo con solo 4 variables también proporciona un gran *accuracy*, por lo que podría llegar a ser un gran modelo, debido a la buena calidad de las clasificaciones y de la reducción computacional que supone tener tres variables menos.\n",
    "\n",
    "A continuación, analizaré las salidas del modelo seleccionado."
   ]
  },
  {
   "cell_type": "code",
   "execution_count": 50,
   "id": "5326887f",
   "metadata": {},
   "outputs": [
    {
     "name": "stdout",
     "output_type": "stream",
     "text": [
      "\u001b[4m\u001b[1mModelo con todas las variables\n",
      "\u001b[0m\n",
      "       Info     Train       Val      Test  Outliers    Reales  Artificiales\n",
      "0  Accuracy  0.954301  0.943548  0.935484  0.416667  0.901345      0.918495\n"
     ]
    },
    {
     "data": {
      "image/png": "[encoded data removed]",
      "text/plain": [
       "<Figure size 432x288 with 2 Axes>"
      ]
     },
     "metadata": {
      "needs_background": "light"
     },
     "output_type": "display_data"
    },
    {
     "name": "stdout",
     "output_type": "stream",
     "text": [
      "              precision    recall  f1-score   support\n",
      "\n",
      "         0.0       1.00      0.90      0.95        21\n",
      "         1.0       0.83      0.86      0.84        22\n",
      "         2.0       1.00      1.00      1.00        10\n",
      "         3.0       1.00      1.00      1.00         4\n",
      "         4.0       0.82      0.82      0.82        17\n",
      "         5.0       1.00      1.00      1.00        20\n",
      "         6.0       1.00      1.00      1.00        13\n",
      "         7.0       0.94      1.00      0.97        17\n",
      "\n",
      "    accuracy                           0.94       124\n",
      "   macro avg       0.95      0.95      0.95       124\n",
      "weighted avg       0.94      0.94      0.94       124\n",
      "\n"
     ]
    }
   ],
   "source": [
    "nb = naive_bayes.GaussianNB()\n",
    "best_selection['Naive Bayes']=[nb,best_params]\n",
    "resultados(nb,best_params)"
   ]
  },
  {
   "cell_type": "markdown",
   "id": "1c0f1ab6",
   "metadata": {},
   "source": [
    "**Conclusiones clasificador Naive Bayes**\n",
    "\n",
    "Como ya he tratado se obtiene un gran *accuracy* con los datos de validación, y además los resultados obtenidos en test también son realmente buenos (estos resultados ya no son **optimistas**), por lo que se puede decir que es un buen clasificador. Es más, el modelo proporciona unos buenos resultados en el conjunto de datos artificiales y reales, aunque se sabe que los resultados de los datos reales son optimistas. Es cierto, que el *accuracy* del conjunto correspondiente a los *outliers* no es alto pero estoy clasificando correctamente un 40%, algo sorprendente para ser *outliers \"extremos\"* y no haber introducido este tipo de casos en el aprendizaje.\n",
    "\n",
    "Finalmente, creo que se obtiene una buena generalización aunque preocupa la mala clasificación de algunos datos correspondientes a la clase 1 y 4, los cuales se llegan a confundir."
   ]
  },
  {
   "cell_type": "markdown",
   "id": "42c0f650",
   "metadata": {},
   "source": [
    "### Redes nueronales"
   ]
  },
  {
   "cell_type": "markdown",
   "id": "fc7df39f",
   "metadata": {},
   "source": [
    "A continuación, crearé modelos basados en redes nueronales haciendo uso de distintas estructuras. También, realizaré dos modelos por cada tipo de estructura que genero, uno con las 4 variables seleccionadas y otro con todas las variables (como ya trate en el *protocolo*).\n",
    "\n",
    "Antes de proceder a la ejecución de los modelos, expongo las estructura que voy a utilizar:\n",
    "- (75,75): Dos capas con 75 neuronas cada una.\n",
    "- (150,100,50): Tres capas con 150,100 y 50 neuronas respectivamente.\n",
    "- (50,75,100,75): Cuatro capas con 50,75,100 y 75 neuronas respectivamente.\n",
    "- (25,25,25,25,25): Cinco capas todas con 25 neuronas.\n",
    "\n",
    "Sabemos por teoría que en estos problemas de clasificación múltiple, la ultima capa debe tener tantas neuronas como posibles salidas hay; sin embargo, no es necesario establecer la ultima capa de las estructura con las 8 neuronas de salida ya que *Scikit Learn* lo hace automaticamente. También, comentar que la función de activación que utilizaré con todas las redes es la función **relu**."
   ]
  },
  {
   "cell_type": "code",
   "execution_count": 51,
   "id": "f1e14a71",
   "metadata": {},
   "outputs": [
    {
     "name": "stdout",
     "output_type": "stream",
     "text": [
      "\n",
      "Modelo con las cuatro variables seleccionadas y estructura (75, 75).\n",
      "Accuracy validación: 0.782258064516129.\n",
      "\n",
      "Modelo con las cuatro variables seleccionadas y estructura (150, 100, 50).\n",
      "Accuracy validación: 0.8629032258064516.\n",
      "\n",
      "Modelo con las cuatro variables seleccionadas y estructura (50, 75, 100, 75).\n",
      "Accuracy validación: 0.8951612903225806.\n",
      "\n",
      "Modelo con las cuatro variables seleccionadas y estructura (25, 25, 25, 25, 25).\n",
      "Accuracy validación: 0.8951612903225806.\n",
      "\n",
      "Modelo con todas las variables y estructura (75, 75).\n",
      "Accuracy validación: 0.8225806451612904.\n",
      "\n",
      "Modelo con todas las variables y estructura (150, 100, 50).\n",
      "Accuracy validación: 0.8467741935483871.\n",
      "\n",
      "Modelo con todas las variables y estructura (50, 75, 100, 75).\n",
      "Accuracy validación: 0.9032258064516129.\n",
      "\n",
      "Modelo con todas las variables y estructura (25, 25, 25, 25, 25).\n",
      "Accuracy validación: 0.9193548387096774.\n"
     ]
    }
   ],
   "source": [
    "estructuras=[(75,75),(150,100,50),(50,75,100,75),(25,25,25,25,25)]\n",
    "\n",
    "best_accVal = 0\n",
    "best_params = {'Estructura': None,'Tipo':None,'Var':None}\n",
    "\n",
    "for i in range(2):\n",
    "    for estruc in estructuras:\n",
    "        red=MLPClassifier(alpha=1.0, max_iter=1000,random_state=42,hidden_layer_sizes =estruc)\n",
    "        red.fit(X_train[:,filtro[i]],y_train)\n",
    "\n",
    "        accVal=red.score(X_val[:,filtro[i]],y_val)\n",
    "        print('\\n{} y estructura {}.\\nAccuracy validación: {}.'.format(tipo[i],estruc,accVal))\n",
    "        \n",
    "        if accVal > best_accVal:\n",
    "            # Guardamos la mejor precisión encontrada y los parámetros usados\n",
    "            best_accVal=accVal\n",
    "            best_params['Estructura']=estruc\n",
    "            best_params['Tipo']=tipo[i]\n",
    "            best_params['Var']=filtro[i]"
   ]
  },
  {
   "cell_type": "markdown",
   "id": "a1186501",
   "metadata": {},
   "source": [
    "Observo que el modelo que mejor resultado proporciona es el modelo que utiliza todas las variables y tiene la estructura de red  (25,25,25,25,25). También, encuentro otras buenas soluciones pero no proporcionan un *accuracy* tan elevado. Continúo con el análisis del modelo seleccionado."
   ]
  },
  {
   "cell_type": "code",
   "execution_count": 52,
   "id": "14dd1978",
   "metadata": {},
   "outputs": [
    {
     "name": "stdout",
     "output_type": "stream",
     "text": [
      "\u001b[4m\u001b[1mModelo con todas las variables\n",
      "Estructura= (25, 25, 25, 25, 25)\n",
      "\u001b[0m\n",
      "       Info     Train       Val      Test  Outliers    Reales  Artificiales\n",
      "0  Accuracy  0.965054  0.919355  0.927419       0.5  0.919283       0.92163\n"
     ]
    },
    {
     "data": {
      "image/png": "[encoded data removed]",
      "text/plain": [
       "<Figure size 432x288 with 2 Axes>"
      ]
     },
     "metadata": {
      "needs_background": "light"
     },
     "output_type": "display_data"
    },
    {
     "name": "stdout",
     "output_type": "stream",
     "text": [
      "              precision    recall  f1-score   support\n",
      "\n",
      "         0.0       1.00      0.86      0.92        21\n",
      "         1.0       0.81      0.95      0.88        22\n",
      "         2.0       1.00      1.00      1.00        10\n",
      "         3.0       0.80      1.00      0.89         4\n",
      "         4.0       0.92      0.71      0.80        17\n",
      "         5.0       0.95      1.00      0.98        20\n",
      "         6.0       1.00      1.00      1.00        13\n",
      "         7.0       0.94      1.00      0.97        17\n",
      "\n",
      "    accuracy                           0.93       124\n",
      "   macro avg       0.93      0.94      0.93       124\n",
      "weighted avg       0.93      0.93      0.93       124\n",
      "\n"
     ]
    }
   ],
   "source": [
    "red=MLPClassifier(alpha=1.0, max_iter=1000,random_state=42,hidden_layer_sizes =best_params['Estructura'])\n",
    "best_selection['Red Neuronal']=[red,best_params]\n",
    "resultados(red,best_params)"
   ]
  },
  {
   "cell_type": "markdown",
   "id": "c9b21c1c",
   "metadata": {},
   "source": [
    "**Conclusiones clasificador Redes neuronales**\n",
    "\n",
    "Realmente se tiene un caso muy similar al anterior, donde obtengo unos muy buenos resultados en general. Sin embargo, vuelvo a incurrir en la confusión entre la clase 4 con la 1, y peor aún, observo que hay varios datos de la clase mayoritaria que se fallan. Es cierto, que se observa una mejora con los *outliers*, aunque este resultado no es tan relevante y priorizo la buena clasificación de los datos de test a estos. También, se observa una mejora con los datos reales y artificiales. En conseguiente, estoy ante un buen modelo pero considero que el proporcionado por *Naive Bayes* podría resultar mas útil."
   ]
  },
  {
   "cell_type": "markdown",
   "id": "bd127916",
   "metadata": {},
   "source": [
    "### Aprendizaje no supervisado"
   ]
  },
  {
   "cell_type": "markdown",
   "id": "2b395b01",
   "metadata": {},
   "source": [
    "A continuación, voy a tratar un algoritmo de aprendizaje no supervisado; es decir, a los datos de entrenamiento no les proporcionaré la salida conocida. Probablemente los resultados de este método sean pesimos ya que la técnica como tal no esta dirigida a este tipo de problema, pero veo interesante ver que resultados puedo llegar a obtener.\n",
    "\n",
    "Comenzaré tratando la técnica de *Kmeans* y luego trataré también las técnicas de clustering jerarquico con distintas distancias (*Single Link*, *Average Link* y *Complete Link*).\n",
    "\n",
    "Con *Kmeans* de *Scikit Learn* podemos hacer predicciones pero con las otras técnicas no, por lo tanto, con *Kmeans* seguiré el protocolo habitual y con las otras técnicas intentaré clasificar los datos reales juntos (en caso de querer clasificar nuevos datos habría que incluir esos datos en el conjunto a clasificar)."
   ]
  },
  {
   "cell_type": "code",
   "execution_count": 53,
   "id": "01128957",
   "metadata": {},
   "outputs": [
    {
     "name": "stdout",
     "output_type": "stream",
     "text": [
      "Kmeans\n",
      "\u001b[4m\u001b[1mModelo con las cuatro variables seleccionadas\n",
      "\u001b[0m\n",
      "       Info     Train       Val      Test  Outliers    Reales  Artificiales\n",
      "0  Accuracy  0.158602  0.080645  0.193548  0.166667  0.327354      0.053292\n",
      "\n",
      "\n",
      "\u001b[4m\u001b[1mModelo con todas las variables\n",
      "\u001b[0m\n",
      "       Info     Train       Val      Test  Outliers    Reales  Artificiales\n",
      "0  Accuracy  0.362903  0.354839  0.395161  0.416667  0.533632      0.354232\n",
      "\n",
      "\n"
     ]
    }
   ],
   "source": [
    "print('Kmeans')\n",
    "best_params = {'Tipo':None,'Var':None}\n",
    "\n",
    "for i in range(2):\n",
    "    kmeans=KMeans(n_clusters=8,init='random', n_init=10, max_iter=10, random_state=42)\n",
    "    kmeans.fit(X_train[:,filtro[i]])\n",
    "    \n",
    "    best_params['Tipo']=tipo[i]\n",
    "    best_params['Var']=filtro[i]\n",
    "    \n",
    "    resultados(kmeans,best_params,False)\n",
    "    print('\\n')"
   ]
  },
  {
   "cell_type": "code",
   "execution_count": 54,
   "id": "d845e379",
   "metadata": {},
   "outputs": [
    {
     "name": "stdout",
     "output_type": "stream",
     "text": [
      "Single Link.\n",
      "Accuracy: 0.4439461883408072.\n",
      "F score: 0.09935897435897437.\n",
      "\n",
      "Average Link.\n",
      "Accuracy: 0.013452914798206279.\n",
      "F score: 0.007463094587206124.\n",
      "\n",
      "Complete Link.\n",
      "Accuracy: 0.47085201793721976.\n",
      "F score: 0.24127813561973013.\n"
     ]
    }
   ],
   "source": [
    "single=AgglomerativeClustering(n_clusters=8,linkage=\"single\")\n",
    "single.fit(Xreales)\n",
    "c=single.labels_\n",
    "accSingle=metrics.accuracy_score(c,yreales)\n",
    "fSingle=metrics.f1_score(c,yreales, average='macro')\n",
    "print('Single Link.\\nAccuracy: {}.\\nF score: {}.\\n'.format(accSingle,fSingle))\n",
    "    \n",
    "average=AgglomerativeClustering(n_clusters=8,linkage=\"average\")\n",
    "average.fit(Xreales)\n",
    "c=average.labels_\n",
    "accAverage=metrics.accuracy_score(c,yreales)\n",
    "fAverage=metrics.f1_score(c,yreales, average='macro')\n",
    "print('Average Link.\\nAccuracy: {}.\\nF score: {}.\\n'.format(accAverage,fAverage)) \n",
    "\n",
    "    \n",
    "complete=AgglomerativeClustering(n_clusters=8,linkage=\"complete\")\n",
    "complete.fit(Xreales)\n",
    "c=complete.labels_\n",
    "accComplete=metrics.accuracy_score(c,yreales)\n",
    "fComplete=metrics.f1_score(c,yreales, average='macro')\n",
    "print('Complete Link.\\nAccuracy: {}.\\nF score: {}.'.format(accComplete,fComplete))"
   ]
  },
  {
   "cell_type": "markdown",
   "id": "c0ef34c7",
   "metadata": {},
   "source": [
    "**Conclusiones clasificadores con aprendizaje no supervisado**\n",
    "\n",
    "Visualizo que todos los resultados obtenidos son de muy mala calidad, tal y como esperaba al comienzo del apartado. Por lo tanto, no analizaré ningún modelo explícitamente ya que no considero que sea de interes. Gracias a este apartado, he podido comprobar que los datos no estan agrupados por **clusters**, ya que estas técnicas solo son útiles en este tipo de agrupaciones de los datos."
   ]
  },
  {
   "cell_type": "markdown",
   "id": "72777ab7",
   "metadata": {},
   "source": [
    "### Ensembles basados en variación de datos"
   ]
  },
  {
   "cell_type": "markdown",
   "id": "e07886f6",
   "metadata": {},
   "source": [
    "Continúo con el proceso de generación de modelos y ahora me basaré en los ensembles basados en variación de datos. Para ello, tomaré como clasificador base o un arbol de decisión con un nivel de profundidad (un *Decision Stump*) o un *Naive Bayes*. \n",
    "\n",
    "A continuación, expongo los algoritmos que utilizaré y luego procederé a ejecutar el protocolo sobre ellos."
   ]
  },
  {
   "cell_type": "markdown",
   "id": "daf5baa9",
   "metadata": {},
   "source": [
    "- [Bagging](#Bagging)\n",
    "- [Random Forest](#Random-Forest)\n",
    "- [Boosting](#Boosting)"
   ]
  },
  {
   "cell_type": "markdown",
   "id": "f7912cf7",
   "metadata": {},
   "source": [
    "#### Bagging"
   ]
  },
  {
   "cell_type": "markdown",
   "id": "bbd2aa29",
   "metadata": {},
   "source": [
    "Comienzo con el ensemble *Bagging*, donde generaré modelos con distinta cantidad de clasificadores básicos. Este algoritmo tiene la ventaja de que hay poco riesgo de sobre-aprendizaje, por lo que puede resultar interesante dado los datos que tengo (tengo clases como la 2 y la 3 donde he replicado el mismo dato, en consecuencia, el algoritmo podría sobre-aprender y solo clasificaría esas clases al tener un dato identico)."
   ]
  },
  {
   "cell_type": "code",
   "execution_count": 55,
   "id": "60085bac",
   "metadata": {},
   "outputs": [
    {
     "name": "stdout",
     "output_type": "stream",
     "text": [
      "\n",
      "Modelo con las cuatro variables seleccionadas y 3 clasificadores.\n",
      "Accuracy validación: 0.33064516129032256.\n",
      "\n",
      "Modelo con las cuatro variables seleccionadas y 6 clasificadores.\n",
      "Accuracy validación: 0.31451612903225806.\n",
      "\n",
      "Modelo con todas las variables y 3 clasificadores.\n",
      "Accuracy validación: 0.33064516129032256.\n",
      "\n",
      "Modelo con todas las variables y 6 clasificadores.\n",
      "Accuracy validación: 0.31451612903225806.\n"
     ]
    }
   ],
   "source": [
    "num_Clasificadores=[3,6]\n",
    "#num_Clasificadores=[100]\n",
    "\n",
    "best_accVal = 0\n",
    "best_params = {'num_Clasificadores': None,'Tipo':None,'Var':None}\n",
    "\n",
    "for i in range(2):\n",
    "    for num in num_Clasificadores:\n",
    "        bagging=BaggingClassifier(DecisionTreeClassifier(criterion='entropy', max_depth=1)\n",
    "                                  , n_estimators=num, random_state=42)\n",
    "        \n",
    "        bagging.fit(X_train[:,filtro[i]],y_train)\n",
    "        \n",
    "        accVal=bagging.score(X_val[:,filtro[i]],y_val)\n",
    "        print('\\n{} y {} clasificadores.\\nAccuracy validación: {}.'.format(tipo[i],num,accVal))\n",
    "        \n",
    "        if accVal > best_accVal:\n",
    "            # Guardamos la mejor precisión encontrada y los parámetros usados\n",
    "            best_accVal=accVal\n",
    "            best_params['num_Clasificadores']=num\n",
    "            best_params['Tipo']=tipo[i]\n",
    "            best_params['Var']=filtro[i]"
   ]
  },
  {
   "cell_type": "markdown",
   "id": "dac55126",
   "metadata": {},
   "source": [
    "Me encuentro con que los modelos generados proporcionan unos muy malos resultados. Esto sucede ya que en el bagging se estan generando las fronteras de clasificación en base a rectas (ya que se hace uso de *DecisionStump*) sin tener en cuenta el peso que debe tener cada recta y por ello el modelo no se ciñe correctamente a los datos. Además, el problema no se soluciona aumentando el número de clasificadores, dado que los clasificadores seguirán siendo rectas y el problema del voto no se solucionaría (dejo comentada una linea de código, al descomentarla se ejecutara el proceso con 100 clasificadores y se observa que el modelo sigue teniendo el mismo problema). Esto sucede porque el bagging esta preparado para clasificadores que sobre-aprendan y en este caso estoy haciendo uso de un clasificador que no sobre-aprende si no que además tiene bias altos.\n",
    "\n",
    "Sin embargo, tomo como clasificador básico un clasificador *Naive Bayes*. Los clasificadores *Naive Bayes* se consideran clasificadores débiles, por lo tanto, pueden ser una buena opción para resolver este problema."
   ]
  },
  {
   "cell_type": "code",
   "execution_count": 56,
   "id": "2e5648da",
   "metadata": {},
   "outputs": [
    {
     "name": "stdout",
     "output_type": "stream",
     "text": [
      "\n",
      "Modelo con las cuatro variables seleccionadas y 3 clasificadores.\n",
      "Accuracy validación: 0.9354838709677419.\n",
      "\n",
      "Modelo con las cuatro variables seleccionadas y 6 clasificadores.\n",
      "Accuracy validación: 0.9112903225806451.\n",
      "\n",
      "Modelo con todas las variables y 3 clasificadores.\n",
      "Accuracy validación: 0.9435483870967742.\n",
      "\n",
      "Modelo con todas las variables y 6 clasificadores.\n",
      "Accuracy validación: 0.9354838709677419.\n"
     ]
    }
   ],
   "source": [
    "num_Clasificadores=[3,6]\n",
    "\n",
    "best_accVal = 0\n",
    "best_params = {'num_Clasificadores': None,'Tipo':None,'Var':None}\n",
    "\n",
    "for i in range(2):\n",
    "    for num in num_Clasificadores:        \n",
    "        bagging=BaggingClassifier(naive_bayes.GaussianNB()\n",
    "                                  , n_estimators=num, random_state=42)\n",
    "        \n",
    "        bagging.fit(X_train[:,filtro[i]],y_train)\n",
    "        \n",
    "        accVal=bagging.score(X_val[:,filtro[i]],y_val)\n",
    "        print('\\n{} y {} clasificadores.\\nAccuracy validación: {}.'.format(tipo[i],num,accVal))\n",
    "        \n",
    "        if accVal > best_accVal:\n",
    "            # Guardamos la mejor precisión encontrada y los parámetros usados\n",
    "            best_accVal=accVal\n",
    "            best_params['num_Clasificadores']=num\n",
    "            best_params['Tipo']=tipo[i]\n",
    "            best_params['Var']=filtro[i]"
   ]
  },
  {
   "cell_type": "markdown",
   "id": "082f0d44",
   "metadata": {},
   "source": [
    "Observo que el resultado obtenido con todas las variables y con 3 clasificadores básicos proporciona un buen *accuracy* con los datos de validación. Por ello, expongo los resultados que porporciona este clasificador."
   ]
  },
  {
   "cell_type": "code",
   "execution_count": 57,
   "id": "17c56543",
   "metadata": {},
   "outputs": [
    {
     "name": "stdout",
     "output_type": "stream",
     "text": [
      "\u001b[4m\u001b[1mModelo con todas las variables\n",
      "num_Clasificadores= 3\n",
      "\u001b[0m\n",
      "       Info     Train       Val      Test  Outliers    Reales  Artificiales\n",
      "0  Accuracy  0.951613  0.943548  0.927419       0.5  0.896861      0.915361\n"
     ]
    },
    {
     "data": {
      "image/png": "[encoded data removed]",
      "text/plain": [
       "<Figure size 432x288 with 2 Axes>"
      ]
     },
     "metadata": {
      "needs_background": "light"
     },
     "output_type": "display_data"
    },
    {
     "name": "stdout",
     "output_type": "stream",
     "text": [
      "              precision    recall  f1-score   support\n",
      "\n",
      "         0.0       1.00      0.86      0.92        21\n",
      "         1.0       0.79      0.86      0.83        22\n",
      "         2.0       1.00      1.00      1.00        10\n",
      "         3.0       1.00      1.00      1.00         4\n",
      "         4.0       0.82      0.82      0.82        17\n",
      "         5.0       1.00      1.00      1.00        20\n",
      "         6.0       1.00      1.00      1.00        13\n",
      "         7.0       0.94      1.00      0.97        17\n",
      "\n",
      "    accuracy                           0.93       124\n",
      "   macro avg       0.94      0.94      0.94       124\n",
      "weighted avg       0.93      0.93      0.93       124\n",
      "\n"
     ]
    }
   ],
   "source": [
    "bagging=BaggingClassifier(naive_bayes.GaussianNB()\n",
    "                        ,n_estimators=best_params['num_Clasificadores'], random_state=42)\n",
    "best_selection['Bagging + Naive Bayes']=[bagging,best_params]\n",
    "resultados(bagging,best_params)"
   ]
  },
  {
   "cell_type": "markdown",
   "id": "dedd39dd",
   "metadata": {},
   "source": [
    "**Conclusiones Bagging**\n",
    "\n",
    "Aprecio unos muy buenos resultados con el conjunto de test (incluso supera a los de la red neuronal). No obstante, este modelo sigue confundiendo varios datos de la clase 4 y la clase 1. Concluyo que este modelo es bastante eficiente y además se tiene menos probabilidad de sobre-aprendizaje gracias a la estructura del *bagging*, algo a tener en cuenta por el tipo de dataset y la cantidad de datos que hay."
   ]
  },
  {
   "cell_type": "markdown",
   "id": "3ad43132",
   "metadata": {},
   "source": [
    "#### Random Forest"
   ]
  },
  {
   "cell_type": "markdown",
   "id": "24d48b57",
   "metadata": {},
   "source": [
    "Los random forest son un tipo de ensemble en el que los clasificadores base son árboles de decisión. Voy a implementar esta técnica, dado que, aunque se pierda la posible interpretabilidad del modelo, ofrece un buen rendimiento y robusto de un modo simple. Tomaré cuatro valores posibles para el número de arboles de decisión que generaré (3, 9, 15 y 25) y aplicaré el protocolo con esta técnica."
   ]
  },
  {
   "cell_type": "code",
   "execution_count": 58,
   "id": "33c941d9",
   "metadata": {},
   "outputs": [
    {
     "name": "stdout",
     "output_type": "stream",
     "text": [
      "\n",
      "Modelo con las cuatro variables seleccionadas y 3 clasificadores.\n",
      "Accuracy validación: 0.8790322580645161.\n",
      "\n",
      "Modelo con las cuatro variables seleccionadas y 9 clasificadores.\n",
      "Accuracy validación: 0.9112903225806451.\n",
      "\n",
      "Modelo con las cuatro variables seleccionadas y 15 clasificadores.\n",
      "Accuracy validación: 0.9193548387096774.\n",
      "\n",
      "Modelo con las cuatro variables seleccionadas y 25 clasificadores.\n",
      "Accuracy validación: 0.9193548387096774.\n",
      "\n",
      "Modelo con todas las variables y 3 clasificadores.\n",
      "Accuracy validación: 0.9435483870967742.\n",
      "\n",
      "Modelo con todas las variables y 9 clasificadores.\n",
      "Accuracy validación: 0.9435483870967742.\n",
      "\n",
      "Modelo con todas las variables y 15 clasificadores.\n",
      "Accuracy validación: 0.9516129032258065.\n",
      "\n",
      "Modelo con todas las variables y 25 clasificadores.\n",
      "Accuracy validación: 0.967741935483871.\n"
     ]
    }
   ],
   "source": [
    "num_Clasificadores=[3,9,15,25]\n",
    "\n",
    "best_accVal = 0\n",
    "best_params = {'num_Clasificadores': None,'Tipo':None,'Var':None}\n",
    "\n",
    "for i in range(2):\n",
    "    for num in num_Clasificadores:\n",
    "        forest=RandomForestClassifier(criterion='entropy', max_features = 'log2'\n",
    "                       , n_estimators=num, random_state=42)\n",
    "        \n",
    "        forest.fit(X_train[:,filtro[i]],y_train)\n",
    "        \n",
    "        accVal=forest.score(X_val[:,filtro[i]],y_val)\n",
    "        print('\\n{} y {} clasificadores.\\nAccuracy validación: {}.'.format(tipo[i],num,accVal))\n",
    "        \n",
    "        if accVal > best_accVal:\n",
    "            # Guardamos la mejor precisión encontrada y los parámetros usados\n",
    "            best_accVal=accVal\n",
    "            best_params['num_Clasificadores']=num\n",
    "            best_params['Tipo']=tipo[i]\n",
    "            best_params['Var']=filtro[i]"
   ]
  },
  {
   "cell_type": "markdown",
   "id": "2ce140b6",
   "metadata": {},
   "source": [
    "El modelo con todas las variables y 25 arboles ofrece un *accuracy* sorprendentemente alto. Antes de pasar a analizar el mejor modelo seleccionado, cabe mencionar que se encuentran modelos con distintas características peores al modelo seleccionado que igualan e incluso mejoran los resultados obtenidos anteriormente con otros modelos."
   ]
  },
  {
   "cell_type": "code",
   "execution_count": 59,
   "id": "5e15b9cf",
   "metadata": {},
   "outputs": [
    {
     "name": "stdout",
     "output_type": "stream",
     "text": [
      "\u001b[4m\u001b[1mModelo con todas las variables\n",
      "num_Clasificadores= 25\n",
      "\u001b[0m\n",
      "       Info  Train       Val      Test  Outliers    Reales  Artificiales\n",
      "0  Accuracy    1.0  0.967742  0.951613  0.666667  0.959641      0.940439\n"
     ]
    },
    {
     "data": {
      "image/png": "[encoded data removed]",
      "text/plain": [
       "<Figure size 432x288 with 2 Axes>"
      ]
     },
     "metadata": {
      "needs_background": "light"
     },
     "output_type": "display_data"
    },
    {
     "name": "stdout",
     "output_type": "stream",
     "text": [
      "              precision    recall  f1-score   support\n",
      "\n",
      "         0.0       1.00      1.00      1.00        21\n",
      "         1.0       0.86      0.86      0.86        22\n",
      "         2.0       1.00      1.00      1.00        10\n",
      "         3.0       1.00      1.00      1.00         4\n",
      "         4.0       0.93      0.82      0.87        17\n",
      "         5.0       1.00      1.00      1.00        20\n",
      "         6.0       1.00      1.00      1.00        13\n",
      "         7.0       0.89      1.00      0.94        17\n",
      "\n",
      "    accuracy                           0.95       124\n",
      "   macro avg       0.96      0.96      0.96       124\n",
      "weighted avg       0.95      0.95      0.95       124\n",
      "\n"
     ]
    }
   ],
   "source": [
    "forest=RandomForestClassifier(criterion='entropy', max_features = 'log2'\n",
    "                       , n_estimators=best_params['num_Clasificadores'], random_state=42)\n",
    "best_selection['Random Forest']=[forest,best_params]\n",
    "resultados(forest,best_params)"
   ]
  },
  {
   "cell_type": "markdown",
   "id": "f872c7df",
   "metadata": {},
   "source": [
    "**Conclusiones Random Forest**\n",
    "\n",
    "Percibo que se tienen unos resultados extraordinarios. Logro los mejores resultados con diferencia entre todos los modelos que he seleccionado hasta el moomento. Observando la clasificación de los datos en test, se fallan muy pocos datos. Es cierto que sigue habiendo confusion entre la clase 1 y la 4, pero el error es muy escaso. Además, obtengo el mejor resultado con los *outliers*, verificando así nuestro argumento principal de que estos métodos son robustos frente a este tipo de datos. Finalmente, con los datos reales y artificiales los resultados son de muy buena calidad (aunque los resultados no son del todo fiables). En consiguiente, estamos ante una alternativa muy eficiente."
   ]
  },
  {
   "cell_type": "markdown",
   "id": "52690658",
   "metadata": {},
   "source": [
    "#### Boosting"
   ]
  },
  {
   "cell_type": "markdown",
   "id": "df531af5",
   "metadata": {},
   "source": [
    "Para terminar con las técnicas de [ensembles basados en variación de datos](#Ensembles-basados-en-variación-de-datos) aplicaré el algoritmo *boosting*. Este algoritmo se considera uno de los mejores dada su fuerte base teórica y dado que reduce tanto el bias y la varianza.\n",
    "\n",
    "Sin embargo, hay que tener cuidado con el ruido, ya que estas instancias recibiran mayor peso. No obstante, considero que no tendré grandes errores gracias a la separación de los outliers en el [análisis descriptivo](#Análisis-descriptivo). \n",
    "\n",
    "Por último, antes de aplicar el algoritmo, considero como clasificador débil un *Decision Stump*. Además, también tomaré un clasificador *Naive Bayes* (ya que también se considera un clasificador débil como ya he comentado en el [Bagging](#Bagging)). "
   ]
  },
  {
   "cell_type": "code",
   "execution_count": 60,
   "id": "66f712a9",
   "metadata": {},
   "outputs": [
    {
     "name": "stdout",
     "output_type": "stream",
     "text": [
      "\n",
      "Modelo con las cuatro variables seleccionadas y 6 clasificadores (tipo: Decision Stump).\n",
      "Accuracy validación: 0.3870967741935484.\n",
      "\n",
      "Modelo con las cuatro variables seleccionadas y 6 clasificadores (tipo: Naive Bayes).\n",
      "Accuracy validación: 0.7661290322580645.\n",
      "\n",
      "Modelo con las cuatro variables seleccionadas y 8 clasificadores (tipo: Decision Stump).\n",
      "Accuracy validación: 0.3870967741935484.\n",
      "\n",
      "Modelo con las cuatro variables seleccionadas y 8 clasificadores (tipo: Naive Bayes).\n",
      "Accuracy validación: 0.8064516129032258.\n",
      "\n",
      "Modelo con todas las variables y 6 clasificadores (tipo: Decision Stump).\n",
      "Accuracy validación: 0.4274193548387097.\n",
      "\n",
      "Modelo con todas las variables y 6 clasificadores (tipo: Naive Bayes).\n",
      "Accuracy validación: 0.75.\n",
      "\n",
      "Modelo con todas las variables y 8 clasificadores (tipo: Decision Stump).\n",
      "Accuracy validación: 0.4274193548387097.\n",
      "\n",
      "Modelo con todas las variables y 8 clasificadores (tipo: Naive Bayes).\n",
      "Accuracy validación: 0.8145161290322581.\n"
     ]
    }
   ],
   "source": [
    "num_Clasificadores=[6,8]\n",
    "\n",
    "best_accVal = 0\n",
    "best_params = {'num_Clasificadores': None,'Tipo':None,'Var':None}\n",
    "\n",
    "clasificadoresBase=[DecisionTreeClassifier(criterion='entropy',max_depth=1)\n",
    "                   ,naive_bayes.GaussianNB()]\n",
    "clasificadorNames=['Decision Stump','Naive Bayes']\n",
    "\n",
    "for i in range(2):\n",
    "    for num in num_Clasificadores:\n",
    "        for cfbase in range(len(clasificadoresBase)):\n",
    "            adaboost=AdaBoostClassifier(base_estimator=clasificadoresBase[cfbase]\n",
    "                            ,n_estimators=num, random_state=42)\n",
    "\n",
    "            adaboost.fit(X_train[:,filtro[i]],y_train)\n",
    "\n",
    "            accVal=adaboost.score(X_val[:,filtro[i]],y_val)\n",
    "            print('\\n{} y {} clasificadores (tipo: {}).\\nAccuracy validación: {}.'.format(tipo[i],\n",
    "                                        num,clasificadorNames[cfbase],accVal))\n",
    "\n",
    "            if accVal > best_accVal:\n",
    "                # Guardamos la mejor precisión encontrada y los parámetros usados\n",
    "                best_accVal=accVal\n",
    "                best_params['num_Clasificadores']=num\n",
    "                best_params['Tipo']=tipo[i]\n",
    "                best_params['Var']=filtro[i]"
   ]
  },
  {
   "cell_type": "markdown",
   "id": "54985984",
   "metadata": {},
   "source": [
    "**Conclusiones Boosting**\n",
    "\n",
    "Observo que, sorprendentemente, obtengo unos resultados muy pobres con todas las combinaciones propuestas, por lo que este método puede ser que no nos conduzca a una solución eficiente. Por lo tanto, no selecciono ninguno de estos modelos y no analizo sus resultados.\n",
    "\n",
    "Los resultados obtenidos con Naive Bayes podrían llegar a ser interesantes si aumento el número de clasificadores; sin embargo, el coste computacionl crecería y no considero que sea interesante."
   ]
  },
  {
   "cell_type": "markdown",
   "id": "f7e717f3",
   "metadata": {},
   "source": [
    "### Ensembles basados en descomposición"
   ]
  },
  {
   "cell_type": "markdown",
   "id": "78ccbf45",
   "metadata": {},
   "source": [
    "Llegados a este punto, voy a utilizar ensembles basados en descomposición con el objetivo de afrontar este problema multi-clase con clasificadores binarios. Para ello tomaré los siguientes clasificadores binarios: "
   ]
  },
  {
   "cell_type": "markdown",
   "id": "065782be",
   "metadata": {},
   "source": [
    "- [Support Vector Machines](#Support-Vector-Machines)\n",
    "- [Regresión logística (sin regularización)](#Regresión-logística-(sin-regularización))"
   ]
  },
  {
   "cell_type": "markdown",
   "id": "72a24d80",
   "metadata": {},
   "source": [
    "Ahora, aplicaré con cada clasificador binario las estrategias *OVO* (One-vs-One) y *OVA* (One-vs-All).\n",
    "\n",
    "Por un lado, *OVO* es utilizado para problemas mas sencillos y pequeños; y por otro lado, *OVA* prporciona agregaciones mas simples y utiliza todos los ejemplos pero genera mas coste computacional y tiene broblemas con muestras no balanceadas (esto podría inducir a que los resultados no sean muy correctos, ya que la muestra de entrenamiento no esta del todo balanceada)."
   ]
  },
  {
   "cell_type": "markdown",
   "id": "7686e1ef",
   "metadata": {},
   "source": [
    "#### Support Vector Machines"
   ]
  },
  {
   "cell_type": "markdown",
   "id": "eb65c3ab",
   "metadata": {},
   "source": [
    "Para ejecutar las técnicas *OVO* y *OVA*, se suele hacer uso de algunos modulos de *Scikit Learn*. Sin embargo, *Scikit Learn* integra directamente el clasificador en este caso, facilitando asi la programación de esta técnica.\n",
    "\n",
    "Además, en este caso alteraré un poco el protocolo y probaré otra alternativa a este. Para obtener los mejores hiperparámetros del clasificador y la  mejor técnica para el clasificador *SVM* generaré una validación cruzada con los datos de entrenamiento, tomando así los mejores condiciones. Luego, con el conjunto de validación escogeré con que número de variables se obtiene mejor resultado. Y finalmente, analizaré los resultados obtenidos en test.\n",
    "\n",
    "Los valores de los hiperparámetros que tomo serán (0.1, 0.3, 1, 3, 10) en los dos casos, para intentar evitar problemas de bias y varianzas altas o bajas (no se toman ni valores muy pequeños ni valores muy elevados).\n",
    "\n",
    "Por último, antes de proceder a generar los modelos, comentar que haré uso del *kernel Gaussiano*, dado que no tengo un gran número de instancias de entrenamiento ni un número elevado de características."
   ]
  },
  {
   "cell_type": "code",
   "execution_count": 61,
   "id": "0ee40d88",
   "metadata": {
    "scrolled": true
   },
   "outputs": [
    {
     "name": "stdout",
     "output_type": "stream",
     "text": [
      "\n",
      "Modelo con las cuatro variables seleccionadas. C: 10, Gamma: 10, Técnica: ovo.\n",
      "Accuracy validación: 0.8870967741935484.\n",
      "\n",
      "Modelo con todas las variables. C: 10, Gamma: 10, Técnica: ovo.\n",
      "Accuracy validación: 0.9516129032258065.\n"
     ]
    }
   ],
   "source": [
    "#decision_function_shape=ovo,ovr\n",
    "C_values = [ 0.1, 0.3, 1, 3, 10]\n",
    "gamma_values = [ 0.1, 0.3, 1, 3, 10]\n",
    "tecnicas=['ovo','ovr']\n",
    "\n",
    "best_accVal = 0\n",
    "best_params = {'C': None, 'gamma': None,'Tipo':None,'Var':None,'Técnica':None}\n",
    "param_grid= {'C': C_values, 'gamma': gamma_values,'decision_function_shape':tecnicas}\n",
    "\n",
    "for i in range(2):\n",
    "    clasificadores = GridSearchCV(, param_grid,cv=10)\n",
    "    clasificadores.fit(X_train[:,filtro[i]],y_train)\n",
    "    \n",
    "    params_=clasificadores.best_params_\n",
    "    \n",
    "    svc=svm.SVC(C=params_['C'],gamma=params_['gamma']\n",
    "                ,decision_function_shape=params_['decision_function_shape'],random_state=42)\n",
    "    \n",
    "    svc.fit(X_train[:,filtro[i]],y_train)  \n",
    "    \n",
    "    accVal=svc.score(X_val[:,filtro[i]],y_val)\n",
    "    print('\\n{}. C: {}, Gamma: {}, Técnica: {}.\\nAccuracy validación: {}.'.format(tipo[i]\n",
    "        ,params_['C'],params_['gamma'],params_['decision_function_shape'],accVal))\n",
    "            \n",
    "    if accVal > best_accVal:\n",
    "        best_accVal=accVal\n",
    "        best_params['C']=params_['C']\n",
    "        best_params['gamma']=params_['gamma']\n",
    "        best_params['Técnica']=params_['decision_function_shape']\n",
    "        best_params['Tipo']=tipo[i]\n",
    "        best_params['Var']=filtro[i]"
   ]
  },
  {
   "cell_type": "code",
   "execution_count": 62,
   "id": "a6eafd9f",
   "metadata": {},
   "outputs": [
    {
     "name": "stdout",
     "output_type": "stream",
     "text": [
      "\u001b[4m\u001b[1mModelo con todas las variables\n",
      "C= 10\n",
      "gamma= 10\n",
      "Técnica= ovo\n",
      "\u001b[0m\n",
      "       Info     Train       Val      Test  Outliers   Reales  Artificiales\n",
      "0  Accuracy  0.986559  0.951613  0.967742  0.583333  0.93722      0.937304\n"
     ]
    },
    {
     "data": {
      "image/png": "[encoded data removed]",
      "text/plain": [
       "<Figure size 432x288 with 2 Axes>"
      ]
     },
     "metadata": {
      "needs_background": "light"
     },
     "output_type": "display_data"
    },
    {
     "name": "stdout",
     "output_type": "stream",
     "text": [
      "              precision    recall  f1-score   support\n",
      "\n",
      "         0.0       1.00      0.95      0.98        21\n",
      "         1.0       0.91      0.95      0.93        22\n",
      "         2.0       1.00      1.00      1.00        10\n",
      "         3.0       1.00      1.00      1.00         4\n",
      "         4.0       0.94      0.88      0.91        17\n",
      "         5.0       1.00      1.00      1.00        20\n",
      "         6.0       1.00      1.00      1.00        13\n",
      "         7.0       0.94      1.00      0.97        17\n",
      "\n",
      "    accuracy                           0.97       124\n",
      "   macro avg       0.97      0.97      0.97       124\n",
      "weighted avg       0.97      0.97      0.97       124\n",
      "\n"
     ]
    }
   ],
   "source": [
    "svc=svm.SVC(C=best_params['C'],gamma = best_params['gamma'],decision_function_shape=best_params['Técnica'],random_state=42)\n",
    "best_selection['SVC']=[svc,best_params]\n",
    "resultados(svc,best_params)"
   ]
  },
  {
   "cell_type": "markdown",
   "id": "781ce522",
   "metadata": {},
   "source": [
    "**Conclusiones SVM**\n",
    "\n",
    "Observo que logro una gran precisión en todos los conjuntos posibles, a excepción del conjunto de los *outliers* (no obstante el clasificador es capaz de clasificar correctamente mas de la mitad de los *outliers* mostrando así la robustez del modelo frente a este tipo de instancias). Además, distingue bastante bien las clases 1 y 4, algo que otros clasificadores no lograban. Este clasificador puede ser muy interesante ya que tiene resultados muy parecidos a los obtenidos con \n",
    "[Random Forest](#Random-Forest), clasificador que se ha concluido que tenía gran eficacia."
   ]
  },
  {
   "cell_type": "markdown",
   "id": "55b72d96",
   "metadata": {},
   "source": [
    "#### Regresión logística (sin regularización)"
   ]
  },
  {
   "cell_type": "markdown",
   "id": "6743dd0d",
   "metadata": {},
   "source": [
    "En este caso para ejecutar las técnicas *OVO* y *OVA* las tendré que hacer con ayuda de modulos de *Scikit Learn*. Por ello, ejecutaré el protocolo dos veces, una vez con *OVO* y otra con *OVA*.\n",
    "\n",
    "Por último, antes de proceder a generar los modelos, comentar que no se hace uso de la regularización, ya que se deben considerar clasificadores débiles que cometan una cantidad de errores para lograr diversidad y mejorar al clasificador final.\n",
    "\n",
    "**OVA**"
   ]
  },
  {
   "cell_type": "code",
   "execution_count": 63,
   "id": "959169d3",
   "metadata": {},
   "outputs": [
    {
     "name": "stdout",
     "output_type": "stream",
     "text": [
      "Modelo con las cuatro variables seleccionadas.\n",
      "Accuracy validación: 0.7903225806451613.\n",
      "\n",
      "Modelo con todas las variables.\n",
      "Accuracy validación: 0.8306451612903226.\n",
      "\n"
     ]
    }
   ],
   "source": [
    "best_accVal = 0\n",
    "best_params = {'Tipo':None,'Var':None}\n",
    "\n",
    "for i in range(2):\n",
    "    OVA=OneVsRestClassifier(estimator=LogisticRegression(penalty='l2',max_iter=400,\n",
    "                                                         solver='newton-cg',C=10.e50,random_state=42))\n",
    "    OVA.fit(X_train[:,filtro[i]],y_train)\n",
    "    \n",
    "    accVal=OVA.score(X_val[:,filtro[i]],y_val)\n",
    "    print('{}.\\nAccuracy validación: {}.\\n'.format(tipo[i],accVal))\n",
    "            \n",
    "    if accVal > best_accVal:\n",
    "        best_accVal=accVal\n",
    "        best_params['Tipo']=tipo[i]\n",
    "        best_params['Var']=filtro[i]"
   ]
  },
  {
   "cell_type": "markdown",
   "id": "8b11e5b6",
   "metadata": {},
   "source": [
    "**OVO**"
   ]
  },
  {
   "cell_type": "code",
   "execution_count": 64,
   "id": "4a41848f",
   "metadata": {},
   "outputs": [
    {
     "name": "stdout",
     "output_type": "stream",
     "text": [
      "\n",
      "Modelo con las cuatro variables seleccionadas.\n",
      "Accuracy validación: 0.782258064516129.\n",
      "\n",
      "Modelo con todas las variables.\n",
      "Accuracy validación: 0.9354838709677419.\n"
     ]
    }
   ],
   "source": [
    "best_accVal = 0\n",
    "best_params = {'Tipo':None,'Var':None}\n",
    "\n",
    "for i in range(2):\n",
    "    OVO=OneVsOneClassifier(estimator=LogisticRegression(penalty='l2',max_iter=400,\n",
    "                                                         solver='newton-cg',C=10.e50,random_state=42))\n",
    "    OVO.fit(X_train[:,filtro[i]],y_train)\n",
    "    \n",
    "    accVal=OVO.score(X_val[:,filtro[i]],y_val)\n",
    "    print('\\n{}.\\nAccuracy validación: {}.'.format(tipo[i],accVal))\n",
    "            \n",
    "    if accVal > best_accVal:\n",
    "        best_accVal=accVal\n",
    "        best_params['Tipo']=tipo[i]\n",
    "        best_params['Var']=filtro[i]"
   ]
  },
  {
   "cell_type": "markdown",
   "id": "b5f5bd0a",
   "metadata": {},
   "source": [
    "Visualizo que los mejores resultados con el conjunto de validación los obtengo con el clasificador generado con el algoritmo *OVO* y con todas las variables, por lo tanto, se analizan sus resultados. Cabe mencionar, que el resto de resultados que se proporcionan son bastate pobres."
   ]
  },
  {
   "cell_type": "code",
   "execution_count": 65,
   "id": "cb64809f",
   "metadata": {},
   "outputs": [
    {
     "name": "stdout",
     "output_type": "stream",
     "text": [
      "\u001b[4m\u001b[1mModelo con todas las variables\n",
      "\u001b[0m\n",
      "       Info     Train       Val      Test  Outliers    Reales  Artificiales\n",
      "0  Accuracy  0.978495  0.935484  0.935484  0.416667  0.923767      0.918495\n"
     ]
    },
    {
     "data": {
      "image/png": "[encoded data removed]",
      "text/plain": [
       "<Figure size 432x288 with 2 Axes>"
      ]
     },
     "metadata": {
      "needs_background": "light"
     },
     "output_type": "display_data"
    },
    {
     "name": "stdout",
     "output_type": "stream",
     "text": [
      "              precision    recall  f1-score   support\n",
      "\n",
      "         0.0       1.00      0.95      0.98        21\n",
      "         1.0       0.81      0.95      0.88        22\n",
      "         2.0       1.00      1.00      1.00        10\n",
      "         3.0       0.80      1.00      0.89         4\n",
      "         4.0       0.92      0.65      0.76        17\n",
      "         5.0       1.00      1.00      1.00        20\n",
      "         6.0       1.00      1.00      1.00        13\n",
      "         7.0       0.94      1.00      0.97        17\n",
      "\n",
      "    accuracy                           0.94       124\n",
      "   macro avg       0.93      0.94      0.93       124\n",
      "weighted avg       0.94      0.94      0.93       124\n",
      "\n"
     ]
    }
   ],
   "source": [
    "OVO=OneVsOneClassifier(estimator=LogisticRegression(penalty='l2',max_iter=400,\n",
    "                                                         solver='newton-cg',C=10.e50,random_state=42))\n",
    "best_selection['Regresión Logística']=[OVO,best_params]\n",
    "resultados(OVO,best_params)"
   ]
  },
  {
   "cell_type": "markdown",
   "id": "5a78b9cd",
   "metadata": {},
   "source": [
    "**Conclusiones regresión logística sin regularización**\n",
    "\n",
    "Aprecio que logro unos muy buenos resultados en general (sin llegar a alcanzar los resultados de los clasificadores *SVM* y *Random Forest*); sin embargo, es preocupante la confusión a la hora de clasificar datos entre la clase 1 y 4."
   ]
  },
  {
   "cell_type": "markdown",
   "id": "459e7286",
   "metadata": {},
   "source": [
    "## Conclusiones"
   ]
  },
  {
   "cell_type": "markdown",
   "id": "d3cdf3c1",
   "metadata": {},
   "source": [
    "Llegamos al final del trabajo. En este apartado, se mostraran todos los modelos seleccionados y se tomarán la mejores alternativas. Una vez seleccione las mejores alternativas, entrenaré el modelo final con  train y finalmente clasificaré los datos del archivo *Test.txt*.\n",
    "\n",
    "A continuación, se muestran los resultados obtenidos con los clasificadores seleccionados."
   ]
  },
  {
   "cell_type": "code",
   "execution_count": 66,
   "id": "67154461",
   "metadata": {},
   "outputs": [
    {
     "name": "stdout",
     "output_type": "stream",
     "text": [
      "\n",
      " \u001b[4m\u001b[1m\u001b[36mNaive Bayes\u001b[0m\n",
      "\u001b[4m\u001b[1mModelo con todas las variables\n",
      "\u001b[0m\n",
      "       Info     Train       Val      Test  Outliers    Reales  Artificiales\n",
      "0  Accuracy  0.954301  0.943548  0.935484  0.416667  0.901345      0.918495\n",
      "\n",
      " \u001b[4m\u001b[1m\u001b[36mRed Neuronal\u001b[0m\n",
      "\u001b[4m\u001b[1mModelo con todas las variables\n",
      "Estructura= (25, 25, 25, 25, 25)\n",
      "\u001b[0m\n",
      "       Info     Train       Val      Test  Outliers    Reales  Artificiales\n",
      "0  Accuracy  0.965054  0.919355  0.927419       0.5  0.919283       0.92163\n",
      "\n",
      " \u001b[4m\u001b[1m\u001b[36mBagging + Naive Bayes\u001b[0m\n",
      "\u001b[4m\u001b[1mModelo con todas las variables\n",
      "num_Clasificadores= 3\n",
      "\u001b[0m\n",
      "       Info     Train       Val      Test  Outliers    Reales  Artificiales\n",
      "0  Accuracy  0.951613  0.943548  0.927419       0.5  0.896861      0.915361\n",
      "\n",
      " \u001b[4m\u001b[1m\u001b[36mRandom Forest\u001b[0m\n",
      "\u001b[4m\u001b[1mModelo con todas las variables\n",
      "num_Clasificadores= 25\n",
      "\u001b[0m\n",
      "       Info  Train       Val      Test  Outliers    Reales  Artificiales\n",
      "0  Accuracy    1.0  0.967742  0.951613  0.666667  0.959641      0.940439\n",
      "\n",
      " \u001b[4m\u001b[1m\u001b[36mSVC\u001b[0m\n",
      "\u001b[4m\u001b[1mModelo con todas las variables\n",
      "C= 10\n",
      "gamma= 10\n",
      "Técnica= ovo\n",
      "\u001b[0m\n",
      "       Info     Train       Val      Test  Outliers   Reales  Artificiales\n",
      "0  Accuracy  0.986559  0.951613  0.967742  0.583333  0.93722      0.937304\n",
      "\n",
      " \u001b[4m\u001b[1m\u001b[36mRegresión Logística\u001b[0m\n",
      "\u001b[4m\u001b[1mModelo con todas las variables\n",
      "\u001b[0m\n",
      "       Info     Train       Val      Test  Outliers    Reales  Artificiales\n",
      "0  Accuracy  0.978495  0.935484  0.935484  0.416667  0.923767      0.918495\n"
     ]
    }
   ],
   "source": [
    "for i,label in enumerate(best_selection.keys()):\n",
    "    print('\\n','\\033[4m'+'\\033[1m'+'\\033[36m'+label+'\\033[0m')\n",
    "    modelo=best_selection[label][0]\n",
    "    parametros=best_selection[label][1]\n",
    "    resultados(modelo,parametros,False)"
   ]
  },
  {
   "cell_type": "markdown",
   "id": "665d38af",
   "metadata": {},
   "source": [
    "Previo a la selección de los mejores clasificadores, daré algunos breves comentarios sobre los resultados obtenidos. \n",
    "\n",
    "Principalmente se observa que todos los clasificadores han trabajado mejor con todas las variables que con las 4 seleccionadas, por lo que se puede decir que es mejor trabajar con todas las variables del conjunto que con las tomadas en la [selección de variables](#Selección-de-variables). No obstante, en el [análisis de correlacion](#Análisis-de-correlaciones) ya trate que había variables con correlación muy elevada, por lo que se podría pensar en generar una solución con mas de las 4 variables que se han tomado pero dejando alguna de las 8 fuera del modelo. Además, en casos como con el [Naive Bayes](#Naive-Bayes), se obtenía un clasificador no tan bueno como los seleccionados pero con grandes resultados haciendo uso solo de las 4 variables.\n",
    "\n",
    "Por otro lado, entre todos los clasificadores que he seleccionado, con todos se obtiene unos resultados muy buenos en la clasificación de test (todos proporcionan *accuracys* mayores al 90%). Por ello, realmente todos estos clasificadores podrían ser una buena alternativa. De cara una investigación mas a fondo, se podría ir clasificando nuevos ejemplos y analizando que resultados se obtienen, y en base a esos resultados decidir un modelo final."
   ]
  },
  {
   "cell_type": "markdown",
   "id": "68a96142",
   "metadata": {},
   "source": [
    "Avanzando en el tema, se observan dos clasificadores que proporcionan un *accuracy* que sobresalta sobre el resto. Se tratan del [Random Forest](#Random-Forest) y del [Support Vector Machines](#Support-Vector-Machines) con la técnica *OVO*. "
   ]
  },
  {
   "cell_type": "markdown",
   "id": "cce61804",
   "metadata": {},
   "source": [
    "Observo que los dos ofrecen unos resultados similares en todos los aspectos. Por un lado, el *SVC* proporciona un resultado mejor en test aunque la diferencia tampoco es muy relevante. Por otro lado, el *Random Forest* ofrece unos resultados mejores en los apartados de los datos artificiales y los reales, aunque la diferencia no es elevada.\n",
    "\n",
    "Finalmente, cumpliré el protocolo y **selecciono el modelo *SVC* (usando todas las variables, con C=10, gamma=10 y la técnica *OVO*)**; es decir, tomaré el modelo con mas *accuracy* en test (aunque utilizaré el *Random Forest* para hacer una comprobación mas tarde). A continuación, se pasa a clasificar los datos del archivo *Test.txt* con el clasificador seleccionado. Para ello crearé y entrenaré el modelo seleccionado. Una vez se ha entrenado el clasificador, predeciré los datos y obtendré su salida."
   ]
  },
  {
   "cell_type": "markdown",
   "id": "d086b5df",
   "metadata": {},
   "source": [
    "A continuación, mostraré un resultado que no corresponde con la solución final pero puede ayudar a analizar si los resultados son coherentes. Es decir, predeciré también los datos de *Test.txt* con *Random Forest*. Los resultados siguientes deberán ser parecidos a la solución final."
   ]
  },
  {
   "cell_type": "code",
   "execution_count": 67,
   "id": "f6758a98",
   "metadata": {},
   "outputs": [],
   "source": [
    "#Lectura de los datos de test\n",
    "TEST = np.loadtxt('Test.txt', delimiter=',')"
   ]
  },
  {
   "cell_type": "markdown",
   "id": "df8053b6",
   "metadata": {},
   "source": [
    "*Random Forest*"
   ]
  },
  {
   "cell_type": "code",
   "execution_count": 68,
   "id": "79e438c4",
   "metadata": {},
   "outputs": [
    {
     "name": "stderr",
     "output_type": "stream",
     "text": [
      "C:\\Users\\unaig\\anaconda3\\envs\\py38ml\\lib\\site-packages\\seaborn\\_decorators.py:36: FutureWarning: Pass the following variable as a keyword arg: x. From version 0.12, the only valid positional argument will be `data`, and passing other arguments without an explicit keyword will result in an error or misinterpretation.\n",
      "  warnings.warn(\n"
     ]
    },
    {
     "data": {
      "image/png": "[encoded data removed]",
      "text/plain": [
       "<Figure size 360x360 with 1 Axes>"
      ]
     },
     "metadata": {
      "needs_background": "light"
     },
     "output_type": "display_data"
    }
   ],
   "source": [
    "forest=best_selection['Random Forest'][0]\n",
    "parametros=best_selection['Random Forest'][1]\n",
    "\n",
    "forest.fit(X_train[:,parametros['Var']],y_train)\n",
    "\n",
    "yForest=forest.predict(TEST)\n",
    "\n",
    "countplt, ax = plt.subplots(figsize = (5,5))\n",
    "ax =sns.countplot(yForest, palette=\"Set2\");\n",
    "\n",
    "# show count (+ annotate)\n",
    "for rect in ax.patches:\n",
    "    ax.text (rect.get_x() + rect.get_width()  / 2,rect.get_height()+ 0.75,rect.get_height(),horizontalalignment='center', fontsize = 11)"
   ]
  },
  {
   "cell_type": "markdown",
   "id": "c8286d84",
   "metadata": {},
   "source": [
    "**SOLUCIÓN FINAL CON CLASIFICADOR SVC**"
   ]
  },
  {
   "cell_type": "code",
   "execution_count": 69,
   "id": "920ad522",
   "metadata": {},
   "outputs": [
    {
     "data": {
      "image/png": "[encoded data removed]",
      "text/plain": [
       "<Figure size 720x720 with 1 Axes>"
      ]
     },
     "metadata": {
      "needs_background": "light"
     },
     "output_type": "display_data"
    }
   ],
   "source": [
    "#Generación y entrenamiento del clasificador\n",
    "svc=best_selection['SVC'][0]\n",
    "parametros=best_selection['SVC'][1]\n",
    "svc.fit(X_train[:,parametros['Var']],y_train)\n",
    "\n",
    "#Predicción de los datos\n",
    "yTEST=svc.predict(TEST)\n",
    "\n",
    "#Guardamos los datos en un fichero txt\n",
    "np.savetxt(fname='pred.txt', X=yTEST)\n",
    "\n",
    "#Mostramos el resultado\n",
    "countplt, ax = plt.subplots(figsize = (10,10))\n",
    "ax =sns.countplot(x=yTEST, palette=\"Set3\");\n",
    "\n",
    "# show count (+ annotate)\n",
    "for rect in ax.patches:\n",
    "    ax.text (rect.get_x() + rect.get_width()  / 2,rect.get_height()+ 0.75,rect.get_height(),horizontalalignment='center', fontsize = 11)"
   ]
  },
  {
   "cell_type": "markdown",
   "id": "10f396d8",
   "metadata": {},
   "source": [
    "Se logra la clasificación final de los datos a predecir. Se observa que no hay ningún dato que se clasifique como clase 2 o 3, esto considero que es algo preocupante, ya que probablemente haya datos de estas clases que no se esten detectando dada la falta de información que hay en el entrenamiento sobre estos datos. Sin embargo, se obtienen unos resultados muy parecidos con los anteriores que se han mostrado, los cuales probienen del segundo mejor calsificador generado. En consiguiente, se prevé que la clasificación lograda sea bastante exacta con los resultados finales."
   ]
  },
  {
   "cell_type": "markdown",
   "id": "68244402",
   "metadata": {},
   "source": [
    "**Breve comentario final**"
   ]
  },
  {
   "cell_type": "markdown",
   "id": "26d91606",
   "metadata": {},
   "source": [
    "Por último, termino el trabajo haciendo un breve comentario. Considero que el resultado final puede llegar a ofrecer una buena clasificación de los datos, dado que he seleccionado un clasificador que ofrecía la mejor solución entre varias opciones, las cuales han sido entrenadas con conjuntos de datos que no estaban tan desbalanceados como el conjunto de datos inicial. Además, considero que la eliminación de algunos *outliers* ha sido clave para mejorar el resultado final, ya que estos podían llegar haber confundido al clasificador con otras clases. En conclusión, se presupone que el resultado final sea de buena de calidad pero habría que lograr obtener mas datos, sobre todo de las clases minoritarias, para lograr un resultado realmente fiable."
   ]
  }
 ],
 "metadata": {
  "kernelspec": {
   "display_name": "Python 3 (ipykernel)",
   "language": "python",
   "name": "python3"
  },
  "language_info": {
   "codemirror_mode": {
    "name": "ipython",
    "version": 3
   },
   "file_extension": ".py",
   "mimetype": "text/x-python",
   "name": "python",
   "nbconvert_exporter": "python",
   "pygments_lexer": "ipython3",
   "version": "3.8.10"
  }
 },
 "nbformat": 4,
 "nbformat_minor": 5
}
